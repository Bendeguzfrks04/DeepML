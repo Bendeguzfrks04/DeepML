{
  "nbformat": 4,
  "nbformat_minor": 0,
  "metadata": {
    "colab": {
      "provenance": [],
      "authorship_tag": "ABX9TyMEm/3MB1XdFNj7b9DQcfC6",
      "include_colab_link": true
    },
    "kernelspec": {
      "name": "python3",
      "display_name": "Python 3"
    },
    "language_info": {
      "name": "python"
    }
  },
  "cells": [
    {
      "cell_type": "markdown",
      "metadata": {
        "id": "view-in-github",
        "colab_type": "text"
      },
      "source": [
        "<a href=\"https://colab.research.google.com/github/Bendeguzfrks04/DeepML/blob/main/Readshift.ipynb\" target=\"_parent\"><img src=\"https://colab.research.google.com/assets/colab-badge.svg\" alt=\"Open In Colab\"/></a>"
      ]
    },
    {
      "cell_type": "code",
      "metadata": {
        "colab": {
          "base_uri": "https://localhost:8080/"
        },
        "id": "C_n76DaJKZfg",
        "outputId": "6d8a3ce0-22b8-40e0-f3d8-4a78c65c374d"
      },
      "source": [
        "import numpy as np\n",
        "import pandas as pd\n",
        "import matplotlib.pyplot as plt\n",
        "import seaborn as sns\n",
        "\n",
        "from sklearn import datasets, cluster\n",
        "from sklearn.ensemble import RandomForestClassifier, RandomForestRegressor\n",
        "from sklearn import neighbors, ensemble, linear_model\n",
        "from sklearn.metrics import roc_auc_score, roc_curve\n",
        "from sklearn.tree import DecisionTreeClassifier, plot_tree\n",
        "from sklearn.model_selection import train_test_split\n",
        "from sklearn.neighbors import KNeighborsRegressor\n",
        "from sklearn.preprocessing import StandardScaler\n",
        "from sklearn.ensemble import GradientBoostingRegressor\n",
        "from sklearn import neural_network\n",
        "import xgboost as xgb\n",
        "from collections import Counter\n",
        "%pylab inline"
      ],
      "execution_count": null,
      "outputs": [
        {
          "output_type": "stream",
          "text": [
            "Populating the interactive namespace from numpy and matplotlib\n"
          ],
          "name": "stdout"
        }
      ]
    },
    {
      "cell_type": "code",
      "metadata": {
        "id": "_mz7edhTpyd_"
      },
      "source": [
        "def RMSE(sol, true):\n",
        "    return sqrt( ((sol - true)**2).mean() )"
      ],
      "execution_count": null,
      "outputs": []
    },
    {
      "cell_type": "code",
      "metadata": {
        "id": "m8vqkelvLK-I"
      },
      "source": [
        "df = pd.read_csv(\"train.csv\")"
      ],
      "execution_count": null,
      "outputs": []
    },
    {
      "cell_type": "code",
      "metadata": {
        "colab": {
          "base_uri": "https://localhost:8080/",
          "height": 204
        },
        "id": "pcC8X7nehJS6",
        "outputId": "8f79b73e-f428-4232-df18-88e6495eadc8"
      },
      "source": [
        "df.head()"
      ],
      "execution_count": null,
      "outputs": [
        {
          "output_type": "execute_result",
          "data": {
            "text/html": [
              "<div>\n",
              "<style scoped>\n",
              "    .dataframe tbody tr th:only-of-type {\n",
              "        vertical-align: middle;\n",
              "    }\n",
              "\n",
              "    .dataframe tbody tr th {\n",
              "        vertical-align: top;\n",
              "    }\n",
              "\n",
              "    .dataframe thead th {\n",
              "        text-align: right;\n",
              "    }\n",
              "</style>\n",
              "<table border=\"1\" class=\"dataframe\">\n",
              "  <thead>\n",
              "    <tr style=\"text-align: right;\">\n",
              "      <th></th>\n",
              "      <th>dered_u</th>\n",
              "      <th>dered_g</th>\n",
              "      <th>dered_r</th>\n",
              "      <th>dered_i</th>\n",
              "      <th>dered_z</th>\n",
              "      <th>ra</th>\n",
              "      <th>dec</th>\n",
              "      <th>redshift</th>\n",
              "    </tr>\n",
              "  </thead>\n",
              "  <tbody>\n",
              "    <tr>\n",
              "      <th>0</th>\n",
              "      <td>19.18902</td>\n",
              "      <td>17.12673</td>\n",
              "      <td>16.17146</td>\n",
              "      <td>15.72892</td>\n",
              "      <td>15.38018</td>\n",
              "      <td>221.626406</td>\n",
              "      <td>1.104141</td>\n",
              "      <td>0.073469</td>\n",
              "    </tr>\n",
              "    <tr>\n",
              "      <th>1</th>\n",
              "      <td>19.71668</td>\n",
              "      <td>17.91488</td>\n",
              "      <td>17.06592</td>\n",
              "      <td>16.67560</td>\n",
              "      <td>16.41773</td>\n",
              "      <td>177.530289</td>\n",
              "      <td>43.921268</td>\n",
              "      <td>0.067499</td>\n",
              "    </tr>\n",
              "    <tr>\n",
              "      <th>2</th>\n",
              "      <td>19.73791</td>\n",
              "      <td>18.18637</td>\n",
              "      <td>17.31132</td>\n",
              "      <td>16.86139</td>\n",
              "      <td>16.57027</td>\n",
              "      <td>244.887682</td>\n",
              "      <td>35.063165</td>\n",
              "      <td>0.121360</td>\n",
              "    </tr>\n",
              "    <tr>\n",
              "      <th>3</th>\n",
              "      <td>19.29196</td>\n",
              "      <td>17.68699</td>\n",
              "      <td>16.91789</td>\n",
              "      <td>16.54745</td>\n",
              "      <td>16.24734</td>\n",
              "      <td>176.583097</td>\n",
              "      <td>11.647798</td>\n",
              "      <td>0.083287</td>\n",
              "    </tr>\n",
              "    <tr>\n",
              "      <th>4</th>\n",
              "      <td>19.99879</td>\n",
              "      <td>18.26889</td>\n",
              "      <td>17.44174</td>\n",
              "      <td>17.05618</td>\n",
              "      <td>16.75268</td>\n",
              "      <td>168.444269</td>\n",
              "      <td>41.977939</td>\n",
              "      <td>0.098327</td>\n",
              "    </tr>\n",
              "  </tbody>\n",
              "</table>\n",
              "</div>"
            ],
            "text/plain": [
              "    dered_u   dered_g   dered_r  ...          ra        dec  redshift\n",
              "0  19.18902  17.12673  16.17146  ...  221.626406   1.104141  0.073469\n",
              "1  19.71668  17.91488  17.06592  ...  177.530289  43.921268  0.067499\n",
              "2  19.73791  18.18637  17.31132  ...  244.887682  35.063165  0.121360\n",
              "3  19.29196  17.68699  16.91789  ...  176.583097  11.647798  0.083287\n",
              "4  19.99879  18.26889  17.44174  ...  168.444269  41.977939  0.098327\n",
              "\n",
              "[5 rows x 8 columns]"
            ]
          },
          "metadata": {
            "tags": []
          },
          "execution_count": 4
        }
      ]
    },
    {
      "cell_type": "code",
      "metadata": {
        "colab": {
          "base_uri": "https://localhost:8080/",
          "height": 297
        },
        "id": "-jHPdHdhLTar",
        "outputId": "f4b53ace-0fcc-4560-ccfb-5cc0b00dec2c"
      },
      "source": [
        "df.replace(-9999.000000, 18.545691, inplace=True)\n",
        "df.describe()"
      ],
      "execution_count": null,
      "outputs": [
        {
          "output_type": "execute_result",
          "data": {
            "text/html": [
              "<div>\n",
              "<style scoped>\n",
              "    .dataframe tbody tr th:only-of-type {\n",
              "        vertical-align: middle;\n",
              "    }\n",
              "\n",
              "    .dataframe tbody tr th {\n",
              "        vertical-align: top;\n",
              "    }\n",
              "\n",
              "    .dataframe thead th {\n",
              "        text-align: right;\n",
              "    }\n",
              "</style>\n",
              "<table border=\"1\" class=\"dataframe\">\n",
              "  <thead>\n",
              "    <tr style=\"text-align: right;\">\n",
              "      <th></th>\n",
              "      <th>dered_u</th>\n",
              "      <th>dered_g</th>\n",
              "      <th>dered_r</th>\n",
              "      <th>dered_i</th>\n",
              "      <th>dered_z</th>\n",
              "      <th>ra</th>\n",
              "      <th>dec</th>\n",
              "      <th>redshift</th>\n",
              "    </tr>\n",
              "  </thead>\n",
              "  <tbody>\n",
              "    <tr>\n",
              "      <th>count</th>\n",
              "      <td>250000.000000</td>\n",
              "      <td>250000.000000</td>\n",
              "      <td>250000.000000</td>\n",
              "      <td>250000.000000</td>\n",
              "      <td>250000.000000</td>\n",
              "      <td>250000.000000</td>\n",
              "      <td>250000.000000</td>\n",
              "      <td>250000.000000</td>\n",
              "    </tr>\n",
              "    <tr>\n",
              "      <th>mean</th>\n",
              "      <td>19.407237</td>\n",
              "      <td>17.762664</td>\n",
              "      <td>16.927531</td>\n",
              "      <td>16.530984</td>\n",
              "      <td>16.247411</td>\n",
              "      <td>184.730686</td>\n",
              "      <td>24.308683</td>\n",
              "      <td>0.107049</td>\n",
              "    </tr>\n",
              "    <tr>\n",
              "      <th>std</th>\n",
              "      <td>0.986640</td>\n",
              "      <td>0.821859</td>\n",
              "      <td>0.750837</td>\n",
              "      <td>0.748181</td>\n",
              "      <td>0.765532</td>\n",
              "      <td>60.201872</td>\n",
              "      <td>18.673170</td>\n",
              "      <td>0.051697</td>\n",
              "    </tr>\n",
              "    <tr>\n",
              "      <th>min</th>\n",
              "      <td>13.595700</td>\n",
              "      <td>11.820110</td>\n",
              "      <td>11.050980</td>\n",
              "      <td>10.665400</td>\n",
              "      <td>10.419470</td>\n",
              "      <td>0.006459</td>\n",
              "      <td>-11.244081</td>\n",
              "      <td>0.000024</td>\n",
              "    </tr>\n",
              "    <tr>\n",
              "      <th>25%</th>\n",
              "      <td>18.837310</td>\n",
              "      <td>17.369725</td>\n",
              "      <td>16.598147</td>\n",
              "      <td>16.203610</td>\n",
              "      <td>15.904070</td>\n",
              "      <td>150.977836</td>\n",
              "      <td>9.280788</td>\n",
              "      <td>0.069596</td>\n",
              "    </tr>\n",
              "    <tr>\n",
              "      <th>50%</th>\n",
              "      <td>19.476425</td>\n",
              "      <td>17.942610</td>\n",
              "      <td>17.146305</td>\n",
              "      <td>16.742110</td>\n",
              "      <td>16.442925</td>\n",
              "      <td>185.849339</td>\n",
              "      <td>22.591795</td>\n",
              "      <td>0.101094</td>\n",
              "    </tr>\n",
              "    <tr>\n",
              "      <th>75%</th>\n",
              "      <td>20.094800</td>\n",
              "      <td>18.335407</td>\n",
              "      <td>17.474260</td>\n",
              "      <td>17.064700</td>\n",
              "      <td>16.775990</td>\n",
              "      <td>221.650615</td>\n",
              "      <td>38.153715</td>\n",
              "      <td>0.138921</td>\n",
              "    </tr>\n",
              "    <tr>\n",
              "      <th>max</th>\n",
              "      <td>30.066060</td>\n",
              "      <td>25.775880</td>\n",
              "      <td>18.670300</td>\n",
              "      <td>24.333480</td>\n",
              "      <td>26.726530</td>\n",
              "      <td>359.994924</td>\n",
              "      <td>70.268882</td>\n",
              "      <td>0.693718</td>\n",
              "    </tr>\n",
              "  </tbody>\n",
              "</table>\n",
              "</div>"
            ],
            "text/plain": [
              "             dered_u        dered_g  ...            dec       redshift\n",
              "count  250000.000000  250000.000000  ...  250000.000000  250000.000000\n",
              "mean       19.407237      17.762664  ...      24.308683       0.107049\n",
              "std         0.986640       0.821859  ...      18.673170       0.051697\n",
              "min        13.595700      11.820110  ...     -11.244081       0.000024\n",
              "25%        18.837310      17.369725  ...       9.280788       0.069596\n",
              "50%        19.476425      17.942610  ...      22.591795       0.101094\n",
              "75%        20.094800      18.335407  ...      38.153715       0.138921\n",
              "max        30.066060      25.775880  ...      70.268882       0.693718\n",
              "\n",
              "[8 rows x 8 columns]"
            ]
          },
          "metadata": {
            "tags": []
          },
          "execution_count": 5
        }
      ]
    },
    {
      "cell_type": "code",
      "metadata": {
        "colab": {
          "base_uri": "https://localhost:8080/",
          "height": 317
        },
        "id": "DaAUsAqwodnO",
        "outputId": "4fcf3c8b-e7f9-4b1f-8ed5-9bef5f8070a1"
      },
      "source": [
        "sns.heatmap(df.corr(), annot=True , linewidths=.5, fmt= '.1f')"
      ],
      "execution_count": null,
      "outputs": [
        {
          "output_type": "execute_result",
          "data": {
            "text/plain": [
              "<matplotlib.axes._subplots.AxesSubplot at 0x7fc0bf6991d0>"
            ]
          },
          "metadata": {
            "tags": []
          },
          "execution_count": 6
        },
        {
          "output_type": "display_data",
          "data": {
            "image/png": "[encoded data removed]",
            "text/plain": [
              "<Figure size 432x288 with 2 Axes>"
            ]
          },
          "metadata": {
            "tags": [],
            "needs_background": "light"
          }
        }
      ]
    },
    {
      "cell_type": "code",
      "metadata": {
        "colab": {
          "base_uri": "https://localhost:8080/",
          "height": 224
        },
        "id": "VcC_X2zRfg2e",
        "outputId": "10ca0c95-7e04-4168-e9d0-530d919ed7e7"
      },
      "source": [
        "# Creating features (substraction):\n",
        "df = df.assign(u_g=df.dered_u-df.dered_g)\n",
        "df = df.assign(g_r=df.dered_g-df.dered_r)\n",
        "df = df.assign(r_i=df.dered_r-df.dered_i)\n",
        "df = df.assign(i_z=df.dered_i-df.dered_z)\n",
        "#features = pd.DataFrame(scalar.fit_transform(df), columns=df.columns)\n",
        "df = df.assign(g_u=df.dered_g-df.dered_u)\n",
        "df = df.assign(r_g=df.dered_r-df.dered_g)\n",
        "df = df.assign(i_r=df.dered_i-df.dered_r)\n",
        "df = df.assign(z_i=df.dered_z-df.dered_i)\n",
        "\n",
        "#difference's diff\n",
        "df = df.assign(iz_ri=df.i_z-df.r_i)\n",
        "df = df.assign(ri_gr=df.r_i-df.g_r)\n",
        "df = df.assign(gr_ug=df.g_r-df.u_g)\n",
        "#turn\n",
        "df = df.assign(ri_zi=df.r_i-df.z_i)\n",
        "df = df.assign(gr_ri=df.g_r-df.r_i)\n",
        "df = df.assign(ug_gr=df.u_g-df.g_u)\n",
        "\n",
        "#and their difference\n",
        "df = df.assign(grug_rigr=df.gr_ug-df.ri_gr)\n",
        "df = df.assign(rigr_izri=df.ri_gr-df.iz_ri)\n",
        "#turn\n",
        "df = df.assign(uggr_grri=df.ug_gr-df.gr_ri)\n",
        "df = df.assign(grri_rizi=df.gr_ri-df.ri_zi)\n",
        "\n",
        "#div maybe?\n",
        "df = df.assign(ug=df.dered_u/df.dered_g)\n",
        "df = df.assign(gr=df.dered_g/df.dered_r)\n",
        "df = df.assign(ri=df.dered_r/df.dered_i)\n",
        "df = df.assign(iz=df.dered_i/df.dered_z)\n",
        "#div turn maybe?\n",
        "df = df.assign(gu=df.dered_g/df.dered_u)\n",
        "df = df.assign(rg=df.dered_r/df.dered_g)\n",
        "df = df.assign(ir=df.dered_i/df.dered_r)\n",
        "df = df.assign(zi=df.dered_z/df.dered_i)\n",
        "\n",
        "df.head()"
      ],
      "execution_count": null,
      "outputs": [
        {
          "output_type": "execute_result",
          "data": {
            "text/html": [
              "<div>\n",
              "<style scoped>\n",
              "    .dataframe tbody tr th:only-of-type {\n",
              "        vertical-align: middle;\n",
              "    }\n",
              "\n",
              "    .dataframe tbody tr th {\n",
              "        vertical-align: top;\n",
              "    }\n",
              "\n",
              "    .dataframe thead th {\n",
              "        text-align: right;\n",
              "    }\n",
              "</style>\n",
              "<table border=\"1\" class=\"dataframe\">\n",
              "  <thead>\n",
              "    <tr style=\"text-align: right;\">\n",
              "      <th></th>\n",
              "      <th>dered_u</th>\n",
              "      <th>dered_g</th>\n",
              "      <th>dered_r</th>\n",
              "      <th>dered_i</th>\n",
              "      <th>dered_z</th>\n",
              "      <th>ra</th>\n",
              "      <th>dec</th>\n",
              "      <th>redshift</th>\n",
              "      <th>u_g</th>\n",
              "      <th>g_r</th>\n",
              "      <th>r_i</th>\n",
              "      <th>i_z</th>\n",
              "      <th>g_u</th>\n",
              "      <th>r_g</th>\n",
              "      <th>i_r</th>\n",
              "      <th>z_i</th>\n",
              "      <th>iz_ri</th>\n",
              "      <th>ri_gr</th>\n",
              "      <th>gr_ug</th>\n",
              "      <th>ri_zi</th>\n",
              "      <th>gr_ri</th>\n",
              "      <th>ug_gr</th>\n",
              "      <th>grug_rigr</th>\n",
              "      <th>rigr_izri</th>\n",
              "      <th>uggr_grri</th>\n",
              "      <th>grri_rizi</th>\n",
              "      <th>ug</th>\n",
              "      <th>gr</th>\n",
              "      <th>ri</th>\n",
              "      <th>iz</th>\n",
              "      <th>gu</th>\n",
              "      <th>rg</th>\n",
              "      <th>ir</th>\n",
              "      <th>zi</th>\n",
              "    </tr>\n",
              "  </thead>\n",
              "  <tbody>\n",
              "    <tr>\n",
              "      <th>0</th>\n",
              "      <td>19.18902</td>\n",
              "      <td>17.12673</td>\n",
              "      <td>16.17146</td>\n",
              "      <td>15.72892</td>\n",
              "      <td>15.38018</td>\n",
              "      <td>221.626406</td>\n",
              "      <td>1.104141</td>\n",
              "      <td>0.073469</td>\n",
              "      <td>2.06229</td>\n",
              "      <td>0.95527</td>\n",
              "      <td>0.44254</td>\n",
              "      <td>0.34874</td>\n",
              "      <td>-2.06229</td>\n",
              "      <td>-0.95527</td>\n",
              "      <td>-0.44254</td>\n",
              "      <td>-0.34874</td>\n",
              "      <td>-0.09380</td>\n",
              "      <td>-0.51273</td>\n",
              "      <td>-1.10702</td>\n",
              "      <td>0.79128</td>\n",
              "      <td>0.51273</td>\n",
              "      <td>4.12458</td>\n",
              "      <td>-0.59429</td>\n",
              "      <td>-0.41893</td>\n",
              "      <td>3.61185</td>\n",
              "      <td>-0.27855</td>\n",
              "      <td>1.120414</td>\n",
              "      <td>1.059071</td>\n",
              "      <td>1.028135</td>\n",
              "      <td>1.022675</td>\n",
              "      <td>0.892528</td>\n",
              "      <td>0.944223</td>\n",
              "      <td>0.972635</td>\n",
              "      <td>0.977828</td>\n",
              "    </tr>\n",
              "    <tr>\n",
              "      <th>1</th>\n",
              "      <td>19.71668</td>\n",
              "      <td>17.91488</td>\n",
              "      <td>17.06592</td>\n",
              "      <td>16.67560</td>\n",
              "      <td>16.41773</td>\n",
              "      <td>177.530289</td>\n",
              "      <td>43.921268</td>\n",
              "      <td>0.067499</td>\n",
              "      <td>1.80180</td>\n",
              "      <td>0.84896</td>\n",
              "      <td>0.39032</td>\n",
              "      <td>0.25787</td>\n",
              "      <td>-1.80180</td>\n",
              "      <td>-0.84896</td>\n",
              "      <td>-0.39032</td>\n",
              "      <td>-0.25787</td>\n",
              "      <td>-0.13245</td>\n",
              "      <td>-0.45864</td>\n",
              "      <td>-0.95284</td>\n",
              "      <td>0.64819</td>\n",
              "      <td>0.45864</td>\n",
              "      <td>3.60360</td>\n",
              "      <td>-0.49420</td>\n",
              "      <td>-0.32619</td>\n",
              "      <td>3.14496</td>\n",
              "      <td>-0.18955</td>\n",
              "      <td>1.100576</td>\n",
              "      <td>1.049746</td>\n",
              "      <td>1.023407</td>\n",
              "      <td>1.015707</td>\n",
              "      <td>0.908615</td>\n",
              "      <td>0.952611</td>\n",
              "      <td>0.977129</td>\n",
              "      <td>0.984536</td>\n",
              "    </tr>\n",
              "    <tr>\n",
              "      <th>2</th>\n",
              "      <td>19.73791</td>\n",
              "      <td>18.18637</td>\n",
              "      <td>17.31132</td>\n",
              "      <td>16.86139</td>\n",
              "      <td>16.57027</td>\n",
              "      <td>244.887682</td>\n",
              "      <td>35.063165</td>\n",
              "      <td>0.121360</td>\n",
              "      <td>1.55154</td>\n",
              "      <td>0.87505</td>\n",
              "      <td>0.44993</td>\n",
              "      <td>0.29112</td>\n",
              "      <td>-1.55154</td>\n",
              "      <td>-0.87505</td>\n",
              "      <td>-0.44993</td>\n",
              "      <td>-0.29112</td>\n",
              "      <td>-0.15881</td>\n",
              "      <td>-0.42512</td>\n",
              "      <td>-0.67649</td>\n",
              "      <td>0.74105</td>\n",
              "      <td>0.42512</td>\n",
              "      <td>3.10308</td>\n",
              "      <td>-0.25137</td>\n",
              "      <td>-0.26631</td>\n",
              "      <td>2.67796</td>\n",
              "      <td>-0.31593</td>\n",
              "      <td>1.085313</td>\n",
              "      <td>1.050548</td>\n",
              "      <td>1.026684</td>\n",
              "      <td>1.017569</td>\n",
              "      <td>0.921393</td>\n",
              "      <td>0.951884</td>\n",
              "      <td>0.974009</td>\n",
              "      <td>0.982735</td>\n",
              "    </tr>\n",
              "    <tr>\n",
              "      <th>3</th>\n",
              "      <td>19.29196</td>\n",
              "      <td>17.68699</td>\n",
              "      <td>16.91789</td>\n",
              "      <td>16.54745</td>\n",
              "      <td>16.24734</td>\n",
              "      <td>176.583097</td>\n",
              "      <td>11.647798</td>\n",
              "      <td>0.083287</td>\n",
              "      <td>1.60497</td>\n",
              "      <td>0.76910</td>\n",
              "      <td>0.37044</td>\n",
              "      <td>0.30011</td>\n",
              "      <td>-1.60497</td>\n",
              "      <td>-0.76910</td>\n",
              "      <td>-0.37044</td>\n",
              "      <td>-0.30011</td>\n",
              "      <td>-0.07033</td>\n",
              "      <td>-0.39866</td>\n",
              "      <td>-0.83587</td>\n",
              "      <td>0.67055</td>\n",
              "      <td>0.39866</td>\n",
              "      <td>3.20994</td>\n",
              "      <td>-0.43721</td>\n",
              "      <td>-0.32833</td>\n",
              "      <td>2.81128</td>\n",
              "      <td>-0.27189</td>\n",
              "      <td>1.090743</td>\n",
              "      <td>1.045461</td>\n",
              "      <td>1.022387</td>\n",
              "      <td>1.018471</td>\n",
              "      <td>0.916806</td>\n",
              "      <td>0.956516</td>\n",
              "      <td>0.978104</td>\n",
              "      <td>0.981864</td>\n",
              "    </tr>\n",
              "    <tr>\n",
              "      <th>4</th>\n",
              "      <td>19.99879</td>\n",
              "      <td>18.26889</td>\n",
              "      <td>17.44174</td>\n",
              "      <td>17.05618</td>\n",
              "      <td>16.75268</td>\n",
              "      <td>168.444269</td>\n",
              "      <td>41.977939</td>\n",
              "      <td>0.098327</td>\n",
              "      <td>1.72990</td>\n",
              "      <td>0.82715</td>\n",
              "      <td>0.38556</td>\n",
              "      <td>0.30350</td>\n",
              "      <td>-1.72990</td>\n",
              "      <td>-0.82715</td>\n",
              "      <td>-0.38556</td>\n",
              "      <td>-0.30350</td>\n",
              "      <td>-0.08206</td>\n",
              "      <td>-0.44159</td>\n",
              "      <td>-0.90275</td>\n",
              "      <td>0.68906</td>\n",
              "      <td>0.44159</td>\n",
              "      <td>3.45980</td>\n",
              "      <td>-0.46116</td>\n",
              "      <td>-0.35953</td>\n",
              "      <td>3.01821</td>\n",
              "      <td>-0.24747</td>\n",
              "      <td>1.094691</td>\n",
              "      <td>1.047424</td>\n",
              "      <td>1.022605</td>\n",
              "      <td>1.018117</td>\n",
              "      <td>0.913500</td>\n",
              "      <td>0.954724</td>\n",
              "      <td>0.977894</td>\n",
              "      <td>0.982206</td>\n",
              "    </tr>\n",
              "  </tbody>\n",
              "</table>\n",
              "</div>"
            ],
            "text/plain": [
              "    dered_u   dered_g   dered_r  ...        rg        ir        zi\n",
              "0  19.18902  17.12673  16.17146  ...  0.944223  0.972635  0.977828\n",
              "1  19.71668  17.91488  17.06592  ...  0.952611  0.977129  0.984536\n",
              "2  19.73791  18.18637  17.31132  ...  0.951884  0.974009  0.982735\n",
              "3  19.29196  17.68699  16.91789  ...  0.956516  0.978104  0.981864\n",
              "4  19.99879  18.26889  17.44174  ...  0.954724  0.977894  0.982206\n",
              "\n",
              "[5 rows x 34 columns]"
            ]
          },
          "metadata": {
            "tags": []
          },
          "execution_count": 7
        }
      ]
    },
    {
      "cell_type": "code",
      "metadata": {
        "id": "ZlCRY0OOjFUj"
      },
      "source": [
        "kuka_dec = df.pop('dec')\n",
        "kuka_ra = df.pop('ra')"
      ],
      "execution_count": null,
      "outputs": []
    },
    {
      "cell_type": "code",
      "metadata": {
        "id": "GTv9Ow3hjElH"
      },
      "source": [
        "#kuka_ug = df.pop('u_g')\n",
        "#kuka_u = df.pop('dered_u')\n",
        "#kuka_iz = df.pop('i_z')\n",
        "#kuka_z = df.pop('dered_z')\n",
        "#kuka_gr = df.pop('g_r')\n",
        "#kuka_g = df.pop('dered_g')\n",
        "#kuka_i = df.pop('dered_i')\n",
        "#kuka_ri = df.pop('r_i')"
      ],
      "execution_count": null,
      "outputs": []
    },
    {
      "cell_type": "code",
      "metadata": {
        "id": "ourTtiHDcWcZ"
      },
      "source": [
        "data = df.pop('redshift')\n",
        "X_train, X_test, Y_train, Y_test = train_test_split(df.values, data.values, test_size=0.20, random_state=42)"
      ],
      "execution_count": null,
      "outputs": []
    },
    {
      "cell_type": "code",
      "metadata": {
        "colab": {
          "base_uri": "https://localhost:8080/",
          "height": 224
        },
        "id": "Shm0dD27lQMS",
        "outputId": "4df43926-e600-49b3-c6b1-4ec923ff0c5b"
      },
      "source": [
        "df.head()"
      ],
      "execution_count": null,
      "outputs": [
        {
          "output_type": "execute_result",
          "data": {
            "text/html": [
              "<div>\n",
              "<style scoped>\n",
              "    .dataframe tbody tr th:only-of-type {\n",
              "        vertical-align: middle;\n",
              "    }\n",
              "\n",
              "    .dataframe tbody tr th {\n",
              "        vertical-align: top;\n",
              "    }\n",
              "\n",
              "    .dataframe thead th {\n",
              "        text-align: right;\n",
              "    }\n",
              "</style>\n",
              "<table border=\"1\" class=\"dataframe\">\n",
              "  <thead>\n",
              "    <tr style=\"text-align: right;\">\n",
              "      <th></th>\n",
              "      <th>dered_u</th>\n",
              "      <th>dered_g</th>\n",
              "      <th>dered_r</th>\n",
              "      <th>dered_i</th>\n",
              "      <th>dered_z</th>\n",
              "      <th>u_g</th>\n",
              "      <th>g_r</th>\n",
              "      <th>r_i</th>\n",
              "      <th>i_z</th>\n",
              "      <th>g_u</th>\n",
              "      <th>r_g</th>\n",
              "      <th>i_r</th>\n",
              "      <th>z_i</th>\n",
              "      <th>ug</th>\n",
              "      <th>gr</th>\n",
              "      <th>ri</th>\n",
              "      <th>iz</th>\n",
              "      <th>gu</th>\n",
              "      <th>rg</th>\n",
              "      <th>ir</th>\n",
              "      <th>zi</th>\n",
              "    </tr>\n",
              "  </thead>\n",
              "  <tbody>\n",
              "    <tr>\n",
              "      <th>0</th>\n",
              "      <td>19.18902</td>\n",
              "      <td>17.12673</td>\n",
              "      <td>16.17146</td>\n",
              "      <td>15.72892</td>\n",
              "      <td>15.38018</td>\n",
              "      <td>2.06229</td>\n",
              "      <td>0.95527</td>\n",
              "      <td>0.44254</td>\n",
              "      <td>0.34874</td>\n",
              "      <td>-2.06229</td>\n",
              "      <td>-0.95527</td>\n",
              "      <td>-0.44254</td>\n",
              "      <td>-0.34874</td>\n",
              "      <td>1.120414</td>\n",
              "      <td>1.059071</td>\n",
              "      <td>1.028135</td>\n",
              "      <td>1.022675</td>\n",
              "      <td>0.892528</td>\n",
              "      <td>0.944223</td>\n",
              "      <td>0.972635</td>\n",
              "      <td>0.977828</td>\n",
              "    </tr>\n",
              "    <tr>\n",
              "      <th>1</th>\n",
              "      <td>19.71668</td>\n",
              "      <td>17.91488</td>\n",
              "      <td>17.06592</td>\n",
              "      <td>16.67560</td>\n",
              "      <td>16.41773</td>\n",
              "      <td>1.80180</td>\n",
              "      <td>0.84896</td>\n",
              "      <td>0.39032</td>\n",
              "      <td>0.25787</td>\n",
              "      <td>-1.80180</td>\n",
              "      <td>-0.84896</td>\n",
              "      <td>-0.39032</td>\n",
              "      <td>-0.25787</td>\n",
              "      <td>1.100576</td>\n",
              "      <td>1.049746</td>\n",
              "      <td>1.023407</td>\n",
              "      <td>1.015707</td>\n",
              "      <td>0.908615</td>\n",
              "      <td>0.952611</td>\n",
              "      <td>0.977129</td>\n",
              "      <td>0.984536</td>\n",
              "    </tr>\n",
              "    <tr>\n",
              "      <th>2</th>\n",
              "      <td>19.73791</td>\n",
              "      <td>18.18637</td>\n",
              "      <td>17.31132</td>\n",
              "      <td>16.86139</td>\n",
              "      <td>16.57027</td>\n",
              "      <td>1.55154</td>\n",
              "      <td>0.87505</td>\n",
              "      <td>0.44993</td>\n",
              "      <td>0.29112</td>\n",
              "      <td>-1.55154</td>\n",
              "      <td>-0.87505</td>\n",
              "      <td>-0.44993</td>\n",
              "      <td>-0.29112</td>\n",
              "      <td>1.085313</td>\n",
              "      <td>1.050548</td>\n",
              "      <td>1.026684</td>\n",
              "      <td>1.017569</td>\n",
              "      <td>0.921393</td>\n",
              "      <td>0.951884</td>\n",
              "      <td>0.974009</td>\n",
              "      <td>0.982735</td>\n",
              "    </tr>\n",
              "    <tr>\n",
              "      <th>3</th>\n",
              "      <td>19.29196</td>\n",
              "      <td>17.68699</td>\n",
              "      <td>16.91789</td>\n",
              "      <td>16.54745</td>\n",
              "      <td>16.24734</td>\n",
              "      <td>1.60497</td>\n",
              "      <td>0.76910</td>\n",
              "      <td>0.37044</td>\n",
              "      <td>0.30011</td>\n",
              "      <td>-1.60497</td>\n",
              "      <td>-0.76910</td>\n",
              "      <td>-0.37044</td>\n",
              "      <td>-0.30011</td>\n",
              "      <td>1.090743</td>\n",
              "      <td>1.045461</td>\n",
              "      <td>1.022387</td>\n",
              "      <td>1.018471</td>\n",
              "      <td>0.916806</td>\n",
              "      <td>0.956516</td>\n",
              "      <td>0.978104</td>\n",
              "      <td>0.981864</td>\n",
              "    </tr>\n",
              "    <tr>\n",
              "      <th>4</th>\n",
              "      <td>19.99879</td>\n",
              "      <td>18.26889</td>\n",
              "      <td>17.44174</td>\n",
              "      <td>17.05618</td>\n",
              "      <td>16.75268</td>\n",
              "      <td>1.72990</td>\n",
              "      <td>0.82715</td>\n",
              "      <td>0.38556</td>\n",
              "      <td>0.30350</td>\n",
              "      <td>-1.72990</td>\n",
              "      <td>-0.82715</td>\n",
              "      <td>-0.38556</td>\n",
              "      <td>-0.30350</td>\n",
              "      <td>1.094691</td>\n",
              "      <td>1.047424</td>\n",
              "      <td>1.022605</td>\n",
              "      <td>1.018117</td>\n",
              "      <td>0.913500</td>\n",
              "      <td>0.954724</td>\n",
              "      <td>0.977894</td>\n",
              "      <td>0.982206</td>\n",
              "    </tr>\n",
              "  </tbody>\n",
              "</table>\n",
              "</div>"
            ],
            "text/plain": [
              "    dered_u   dered_g   dered_r  ...        rg        ir        zi\n",
              "0  19.18902  17.12673  16.17146  ...  0.944223  0.972635  0.977828\n",
              "1  19.71668  17.91488  17.06592  ...  0.952611  0.977129  0.984536\n",
              "2  19.73791  18.18637  17.31132  ...  0.951884  0.974009  0.982735\n",
              "3  19.29196  17.68699  16.91789  ...  0.956516  0.978104  0.981864\n",
              "4  19.99879  18.26889  17.44174  ...  0.954724  0.977894  0.982206\n",
              "\n",
              "[5 rows x 21 columns]"
            ]
          },
          "metadata": {
            "tags": []
          },
          "execution_count": 9
        }
      ]
    },
    {
      "cell_type": "code",
      "metadata": {
        "colab": {
          "base_uri": "https://localhost:8080/"
        },
        "id": "oEF2NfcOgsCg",
        "outputId": "96844816-a2bb-4804-8a45-19ced26444a1"
      },
      "source": [
        "#KNeighbors\n",
        "knn = KNeighborsRegressor(20)\n",
        "knn.fit(X_train, Y_train)\n",
        "preds = knn.predict(X_test)\n",
        "RMSE(preds, Y_test)"
      ],
      "execution_count": null,
      "outputs": [
        {
          "output_type": "execute_result",
          "data": {
            "text/plain": [
              "0.020193485183272238"
            ]
          },
          "metadata": {
            "tags": []
          },
          "execution_count": 10
        }
      ]
    },
    {
      "cell_type": "code",
      "metadata": {
        "colab": {
          "base_uri": "https://localhost:8080/"
        },
        "id": "NoINxL_8hGJi",
        "outputId": "e681963a-4cd0-4126-cb66-0ca2eaed2954"
      },
      "source": [
        "norma = (X_train - X_train.mean(axis=0)) / X_train.std(axis=0)\n",
        "X_test_scaled = (X_test - X_train.mean(axis=0)) / X_train.std(axis=0)\n",
        "norma.mean(0), norma.std(0)"
      ],
      "execution_count": null,
      "outputs": [
        {
          "output_type": "execute_result",
          "data": {
            "text/plain": [
              "(array([ 2.54756248e-13,  2.66735333e-13, -1.19953388e-13,  3.40196974e-13,\n",
              "         1.27325915e-13, -9.49316514e-15,  1.48585913e-14, -1.55354474e-14,\n",
              "        -1.33815317e-14,  9.49316514e-15, -1.48585913e-14,  1.55354474e-14,\n",
              "         1.33815317e-14,  4.43354742e-15,  3.09509665e-14,  2.00920913e-14,\n",
              "         2.91160493e-14, -3.09509665e-14, -9.49316514e-15,  1.39086576e-14,\n",
              "         9.95545495e-16,  4.04174688e-14, -8.88429899e-15,  1.80131218e-13,\n",
              "        -3.17654059e-13,  1.78665419e-12, -1.38251076e-12,  1.84645765e-14,\n",
              "        -3.09065809e-12,  3.05578264e-12, -2.66371234e-12]),\n",
              " array([1., 1., 1., 1., 1., 1., 1., 1., 1., 1., 1., 1., 1., 1., 1., 1., 1.,\n",
              "        1., 1., 1., 1., 1., 1., 1., 1., 1., 1., 1., 1., 1., 1.]))"
            ]
          },
          "metadata": {
            "tags": []
          },
          "execution_count": 11
        }
      ]
    },
    {
      "cell_type": "code",
      "metadata": {
        "colab": {
          "base_uri": "https://localhost:8080/"
        },
        "id": "33kjoYUchOC4",
        "outputId": "fdf9b249-a58c-4c62-af56-53e1f1056bc0"
      },
      "source": [
        "#KNeighbors & normalized data\n",
        "knn = KNeighborsRegressor(20)\n",
        "knn.fit(norma, Y_train)\n",
        "preds = knn.predict(X_test_scaled)\n",
        "RMSE(preds, Y_test)"
      ],
      "execution_count": null,
      "outputs": [
        {
          "output_type": "execute_result",
          "data": {
            "text/plain": [
              "0.019565029904702057"
            ]
          },
          "metadata": {
            "tags": []
          },
          "execution_count": 12
        }
      ]
    },
    {
      "cell_type": "code",
      "metadata": {
        "colab": {
          "base_uri": "https://localhost:8080/"
        },
        "id": "O9sT90bG3QWi",
        "outputId": "a8d79df6-e9dd-4e4d-f2dd-b022cd360697"
      },
      "source": [
        "#Neural Network\n",
        "neural = neural_network.MLPRegressor(hidden_layer_sizes=(20000,), activation='relu',learning_rate_init= 0.00001)\n",
        "neural.fit(norma, Y_train)\n",
        "\n",
        "preds = neural.predict(X_test_scaled)\n",
        "\n",
        "RMSE(preds, Y_test)"
      ],
      "execution_count": null,
      "outputs": [
        {
          "output_type": "execute_result",
          "data": {
            "text/plain": [
              "0.03228110642219224"
            ]
          },
          "metadata": {
            "tags": []
          },
          "execution_count": 16
        }
      ]
    },
    {
      "cell_type": "code",
      "metadata": {
        "colab": {
          "base_uri": "https://localhost:8080/"
        },
        "id": "vKdIa1sOiEKH",
        "outputId": "1bd0a8b7-8932-431c-e98f-5705da96a57e"
      },
      "source": [
        "#ExtraTrees\n",
        "ex_tree = ensemble.ExtraTreesRegressor(n_estimators=200, max_depth=30, min_samples_split=15 ,min_samples_leaf=5)\n",
        "ex_tree.fit(norma, Y_train)\n",
        "\n",
        "preds = ex_tree.predict(X_test_scaled)\n",
        "\n",
        "RMSE(preds, Y_test)"
      ],
      "execution_count": null,
      "outputs": [
        {
          "output_type": "execute_result",
          "data": {
            "text/plain": [
              "0.019271929631900015"
            ]
          },
          "metadata": {
            "tags": []
          },
          "execution_count": 13
        }
      ]
    },
    {
      "cell_type": "code",
      "metadata": {
        "colab": {
          "base_uri": "https://localhost:8080/"
        },
        "id": "S2gKJEfuuESw",
        "outputId": "82fb8926-46cf-4301-884b-94120447ee45"
      },
      "source": [
        "#RandomForest\n",
        "rn_forest = ensemble.RandomForestRegressor(n_estimators=200, min_samples_split=15,min_samples_leaf=5)\n",
        "rn_forest.fit(norma, Y_train)\n",
        "\n",
        "preds = rn_forest.predict(X_test_scaled)\n",
        "\n",
        "RMSE(preds, Y_test)"
      ],
      "execution_count": null,
      "outputs": [
        {
          "output_type": "execute_result",
          "data": {
            "text/plain": [
              "0.019337241507773606"
            ]
          },
          "metadata": {
            "tags": []
          },
          "execution_count": 14
        }
      ]
    },
    {
      "cell_type": "code",
      "metadata": {
        "colab": {
          "base_uri": "https://localhost:8080/"
        },
        "id": "agxsgmaW54-3",
        "outputId": "685f8489-1c18-41b6-dfa6-eb4b4c955d5e"
      },
      "source": [
        "#GradientBoosting\n",
        "model= GradientBoostingRegressor()\n",
        "model.fit(norma, Y_train)\n",
        "preds = model.predict(X_test_scaled)\n",
        "RMSE(preds, Y_test)"
      ],
      "execution_count": null,
      "outputs": [
        {
          "output_type": "execute_result",
          "data": {
            "text/plain": [
              "0.021374308600654455"
            ]
          },
          "metadata": {
            "tags": []
          },
          "execution_count": 54
        }
      ]
    },
    {
      "cell_type": "code",
      "metadata": {
        "id": "j0DXQI_BkURJ"
      },
      "source": [
        "###########################################################################################################################"
      ],
      "execution_count": null,
      "outputs": []
    },
    {
      "cell_type": "code",
      "metadata": {
        "colab": {
          "base_uri": "https://localhost:8080/",
          "height": 297
        },
        "id": "uir-EfKdjZVh",
        "outputId": "44f8daca-dda6-4626-b3b4-bfd693378feb"
      },
      "source": [
        "dtest = pd.read_csv(\"testX.csv\")\n",
        "dtest.replace(-9999.000000, 18.545691, inplace=True)\n",
        "scalar = StandardScaler()\n",
        "dtest.describe()"
      ],
      "execution_count": null,
      "outputs": [
        {
          "output_type": "execute_result",
          "data": {
            "text/html": [
              "<div>\n",
              "<style scoped>\n",
              "    .dataframe tbody tr th:only-of-type {\n",
              "        vertical-align: middle;\n",
              "    }\n",
              "\n",
              "    .dataframe tbody tr th {\n",
              "        vertical-align: top;\n",
              "    }\n",
              "\n",
              "    .dataframe thead th {\n",
              "        text-align: right;\n",
              "    }\n",
              "</style>\n",
              "<table border=\"1\" class=\"dataframe\">\n",
              "  <thead>\n",
              "    <tr style=\"text-align: right;\">\n",
              "      <th></th>\n",
              "      <th>dered_u</th>\n",
              "      <th>dered_g</th>\n",
              "      <th>dered_r</th>\n",
              "      <th>dered_i</th>\n",
              "      <th>dered_z</th>\n",
              "      <th>ra</th>\n",
              "      <th>dec</th>\n",
              "      <th>ID</th>\n",
              "    </tr>\n",
              "  </thead>\n",
              "  <tbody>\n",
              "    <tr>\n",
              "      <th>count</th>\n",
              "      <td>250000.000000</td>\n",
              "      <td>250000.000000</td>\n",
              "      <td>250000.000000</td>\n",
              "      <td>250000.000000</td>\n",
              "      <td>250000.000000</td>\n",
              "      <td>250000.000000</td>\n",
              "      <td>250000.000000</td>\n",
              "      <td>250000.000000</td>\n",
              "    </tr>\n",
              "    <tr>\n",
              "      <th>mean</th>\n",
              "      <td>19.407799</td>\n",
              "      <td>17.763723</td>\n",
              "      <td>16.928125</td>\n",
              "      <td>16.531663</td>\n",
              "      <td>16.248073</td>\n",
              "      <td>184.881031</td>\n",
              "      <td>24.373270</td>\n",
              "      <td>124999.500000</td>\n",
              "    </tr>\n",
              "    <tr>\n",
              "      <th>std</th>\n",
              "      <td>0.988755</td>\n",
              "      <td>0.825710</td>\n",
              "      <td>0.754043</td>\n",
              "      <td>0.752050</td>\n",
              "      <td>0.769482</td>\n",
              "      <td>59.955587</td>\n",
              "      <td>18.686513</td>\n",
              "      <td>72168.927986</td>\n",
              "    </tr>\n",
              "    <tr>\n",
              "      <th>min</th>\n",
              "      <td>13.115050</td>\n",
              "      <td>11.879760</td>\n",
              "      <td>11.014940</td>\n",
              "      <td>10.584090</td>\n",
              "      <td>10.336530</td>\n",
              "      <td>0.004289</td>\n",
              "      <td>-11.252825</td>\n",
              "      <td>0.000000</td>\n",
              "    </tr>\n",
              "    <tr>\n",
              "      <th>25%</th>\n",
              "      <td>18.839950</td>\n",
              "      <td>17.369050</td>\n",
              "      <td>16.599410</td>\n",
              "      <td>16.204670</td>\n",
              "      <td>15.903587</td>\n",
              "      <td>151.295751</td>\n",
              "      <td>9.307271</td>\n",
              "      <td>62499.750000</td>\n",
              "    </tr>\n",
              "    <tr>\n",
              "      <th>50%</th>\n",
              "      <td>19.478290</td>\n",
              "      <td>17.945970</td>\n",
              "      <td>17.149180</td>\n",
              "      <td>16.743670</td>\n",
              "      <td>16.446075</td>\n",
              "      <td>185.958103</td>\n",
              "      <td>22.694393</td>\n",
              "      <td>124999.500000</td>\n",
              "    </tr>\n",
              "    <tr>\n",
              "      <th>75%</th>\n",
              "      <td>20.098837</td>\n",
              "      <td>18.339890</td>\n",
              "      <td>17.477320</td>\n",
              "      <td>17.067160</td>\n",
              "      <td>16.777130</td>\n",
              "      <td>221.791583</td>\n",
              "      <td>38.244590</td>\n",
              "      <td>187499.250000</td>\n",
              "    </tr>\n",
              "    <tr>\n",
              "      <th>max</th>\n",
              "      <td>29.409720</td>\n",
              "      <td>25.213750</td>\n",
              "      <td>18.430950</td>\n",
              "      <td>29.534010</td>\n",
              "      <td>27.901230</td>\n",
              "      <td>359.997379</td>\n",
              "      <td>70.172744</td>\n",
              "      <td>249999.000000</td>\n",
              "    </tr>\n",
              "  </tbody>\n",
              "</table>\n",
              "</div>"
            ],
            "text/plain": [
              "             dered_u        dered_g  ...            dec             ID\n",
              "count  250000.000000  250000.000000  ...  250000.000000  250000.000000\n",
              "mean       19.407799      17.763723  ...      24.373270  124999.500000\n",
              "std         0.988755       0.825710  ...      18.686513   72168.927986\n",
              "min        13.115050      11.879760  ...     -11.252825       0.000000\n",
              "25%        18.839950      17.369050  ...       9.307271   62499.750000\n",
              "50%        19.478290      17.945970  ...      22.694393  124999.500000\n",
              "75%        20.098837      18.339890  ...      38.244590  187499.250000\n",
              "max        29.409720      25.213750  ...      70.172744  249999.000000\n",
              "\n",
              "[8 rows x 8 columns]"
            ]
          },
          "metadata": {
            "tags": []
          },
          "execution_count": 15
        }
      ]
    },
    {
      "cell_type": "code",
      "metadata": {
        "id": "AaukePfDjexB"
      },
      "source": [
        "kuka_test_dec = dtest.pop('dec')\n",
        "kuka_test_ra = dtest.pop('ra')\n",
        "id_test = dtest.pop('ID')"
      ],
      "execution_count": null,
      "outputs": []
    },
    {
      "cell_type": "code",
      "metadata": {
        "colab": {
          "base_uri": "https://localhost:8080/",
          "height": 224
        },
        "id": "UOCy4dywjq4D",
        "outputId": "eb2650ab-0c1d-4c45-a93f-86b46c9e8f9a"
      },
      "source": [
        "# Creating features (substraction):\n",
        "dtest = dtest.assign(u_g=dtest.dered_u-dtest.dered_g)\n",
        "dtest = dtest.assign(g_r=dtest.dered_g-dtest.dered_r)\n",
        "dtest = dtest.assign(r_i=dtest.dered_r-dtest.dered_i)\n",
        "dtest = dtest.assign(i_z=dtest.dered_i-dtest.dered_z)\n",
        "#features = pd.DataFrame(scalar.fit_transform(df), columns=df.columns)\n",
        "dtest = dtest.assign(g_u=dtest.dered_g-dtest.dered_u)\n",
        "dtest = dtest.assign(r_g=dtest.dered_r-dtest.dered_g)\n",
        "dtest = dtest.assign(i_r=dtest.dered_i-dtest.dered_r)\n",
        "dtest = dtest.assign(z_i=dtest.dered_z-dtest.dered_i)\n",
        "#difference's diff\n",
        "dtest = dtest.assign(iz_ri=dtest.i_z-dtest.r_i)\n",
        "dtest = dtest.assign(ri_gr=dtest.r_i-dtest.g_r)\n",
        "dtest = dtest.assign(gr_ug=dtest.g_r-dtest.u_g)\n",
        "#turn\n",
        "dtest = dtest.assign(ri_zi=dtest.r_i-dtest.z_i)\n",
        "dtest = dtest.assign(gr_ri=dtest.g_r-dtest.r_i)\n",
        "dtest = dtest.assign(ug_gr=dtest.u_g-dtest.g_u)\n",
        "\n",
        "#and their difference\n",
        "dtest = dtest.assign(grug_rigr=dtest.gr_ug-df.ri_gr)\n",
        "dtest = dtest.assign(rigr_izri=df.ri_gr-df.iz_ri)\n",
        "#turn\n",
        "dtest = dtest.assign(uggr_grri=dtest.ug_gr-dtest.gr_ri)\n",
        "dtest = dtest.assign(grri_rizi=dtest.gr_ri-dtest.ri_zi)\n",
        "\n",
        "\n",
        "#div maybe?\n",
        "dtest = dtest.assign(ug=dtest.dered_u/dtest.dered_g)\n",
        "dtest = dtest.assign(gr=dtest.dered_g/dtest.dered_r)\n",
        "dtest = dtest.assign(ri=dtest.dered_r/dtest.dered_i)\n",
        "dtest = dtest.assign(iz=dtest.dered_i/dtest.dered_z)\n",
        "#div turn maybe?\n",
        "dtest = dtest.assign(gu=dtest.dered_g/dtest.dered_u)\n",
        "dtest = dtest.assign(rg=dtest.dered_r/dtest.dered_g)\n",
        "dtest = dtest.assign(ir=dtest.dered_i/dtest.dered_r)\n",
        "dtest = dtest.assign(zi=dtest.dered_z/dtest.dered_i)\n",
        "\n",
        "dtest.head()"
      ],
      "execution_count": null,
      "outputs": [
        {
          "output_type": "execute_result",
          "data": {
            "text/html": [
              "<div>\n",
              "<style scoped>\n",
              "    .dataframe tbody tr th:only-of-type {\n",
              "        vertical-align: middle;\n",
              "    }\n",
              "\n",
              "    .dataframe tbody tr th {\n",
              "        vertical-align: top;\n",
              "    }\n",
              "\n",
              "    .dataframe thead th {\n",
              "        text-align: right;\n",
              "    }\n",
              "</style>\n",
              "<table border=\"1\" class=\"dataframe\">\n",
              "  <thead>\n",
              "    <tr style=\"text-align: right;\">\n",
              "      <th></th>\n",
              "      <th>dered_u</th>\n",
              "      <th>dered_g</th>\n",
              "      <th>dered_r</th>\n",
              "      <th>dered_i</th>\n",
              "      <th>dered_z</th>\n",
              "      <th>u_g</th>\n",
              "      <th>g_r</th>\n",
              "      <th>r_i</th>\n",
              "      <th>i_z</th>\n",
              "      <th>g_u</th>\n",
              "      <th>r_g</th>\n",
              "      <th>i_r</th>\n",
              "      <th>z_i</th>\n",
              "      <th>iz_ri</th>\n",
              "      <th>ri_gr</th>\n",
              "      <th>gr_ug</th>\n",
              "      <th>ri_zi</th>\n",
              "      <th>gr_ri</th>\n",
              "      <th>ug_gr</th>\n",
              "      <th>grug_rigr</th>\n",
              "      <th>rigr_izri</th>\n",
              "      <th>uggr_grri</th>\n",
              "      <th>grri_rizi</th>\n",
              "      <th>ug</th>\n",
              "      <th>gr</th>\n",
              "      <th>ri</th>\n",
              "      <th>iz</th>\n",
              "      <th>gu</th>\n",
              "      <th>rg</th>\n",
              "      <th>ir</th>\n",
              "      <th>zi</th>\n",
              "    </tr>\n",
              "  </thead>\n",
              "  <tbody>\n",
              "    <tr>\n",
              "      <th>0</th>\n",
              "      <td>18.57944</td>\n",
              "      <td>16.71833</td>\n",
              "      <td>15.88108</td>\n",
              "      <td>15.49288</td>\n",
              "      <td>15.18320</td>\n",
              "      <td>1.86111</td>\n",
              "      <td>0.83725</td>\n",
              "      <td>0.38820</td>\n",
              "      <td>0.30968</td>\n",
              "      <td>-1.86111</td>\n",
              "      <td>-0.83725</td>\n",
              "      <td>-0.38820</td>\n",
              "      <td>-0.30968</td>\n",
              "      <td>-0.07852</td>\n",
              "      <td>-0.44905</td>\n",
              "      <td>-1.02386</td>\n",
              "      <td>0.69788</td>\n",
              "      <td>0.44905</td>\n",
              "      <td>3.72222</td>\n",
              "      <td>-0.51113</td>\n",
              "      <td>-0.41893</td>\n",
              "      <td>3.27317</td>\n",
              "      <td>-0.24883</td>\n",
              "      <td>1.111322</td>\n",
              "      <td>1.052720</td>\n",
              "      <td>1.025057</td>\n",
              "      <td>1.020396</td>\n",
              "      <td>0.899830</td>\n",
              "      <td>0.949920</td>\n",
              "      <td>0.975556</td>\n",
              "      <td>0.980011</td>\n",
              "    </tr>\n",
              "    <tr>\n",
              "      <th>1</th>\n",
              "      <td>19.06882</td>\n",
              "      <td>17.68395</td>\n",
              "      <td>17.20045</td>\n",
              "      <td>16.92310</td>\n",
              "      <td>16.77381</td>\n",
              "      <td>1.38487</td>\n",
              "      <td>0.48350</td>\n",
              "      <td>0.27735</td>\n",
              "      <td>0.14929</td>\n",
              "      <td>-1.38487</td>\n",
              "      <td>-0.48350</td>\n",
              "      <td>-0.27735</td>\n",
              "      <td>-0.14929</td>\n",
              "      <td>-0.12806</td>\n",
              "      <td>-0.20615</td>\n",
              "      <td>-0.90137</td>\n",
              "      <td>0.42664</td>\n",
              "      <td>0.20615</td>\n",
              "      <td>2.76974</td>\n",
              "      <td>-0.44273</td>\n",
              "      <td>-0.32619</td>\n",
              "      <td>2.56359</td>\n",
              "      <td>-0.22049</td>\n",
              "      <td>1.078312</td>\n",
              "      <td>1.028110</td>\n",
              "      <td>1.016389</td>\n",
              "      <td>1.008900</td>\n",
              "      <td>0.927375</td>\n",
              "      <td>0.972659</td>\n",
              "      <td>0.983875</td>\n",
              "      <td>0.991178</td>\n",
              "    </tr>\n",
              "    <tr>\n",
              "      <th>2</th>\n",
              "      <td>18.72212</td>\n",
              "      <td>17.65607</td>\n",
              "      <td>17.32132</td>\n",
              "      <td>17.13485</td>\n",
              "      <td>16.99749</td>\n",
              "      <td>1.06605</td>\n",
              "      <td>0.33475</td>\n",
              "      <td>0.18647</td>\n",
              "      <td>0.13736</td>\n",
              "      <td>-1.06605</td>\n",
              "      <td>-0.33475</td>\n",
              "      <td>-0.18647</td>\n",
              "      <td>-0.13736</td>\n",
              "      <td>-0.04911</td>\n",
              "      <td>-0.14828</td>\n",
              "      <td>-0.73130</td>\n",
              "      <td>0.32383</td>\n",
              "      <td>0.14828</td>\n",
              "      <td>2.13210</td>\n",
              "      <td>-0.30618</td>\n",
              "      <td>-0.26631</td>\n",
              "      <td>1.98382</td>\n",
              "      <td>-0.17555</td>\n",
              "      <td>1.060379</td>\n",
              "      <td>1.019326</td>\n",
              "      <td>1.010882</td>\n",
              "      <td>1.008081</td>\n",
              "      <td>0.943059</td>\n",
              "      <td>0.981041</td>\n",
              "      <td>0.989235</td>\n",
              "      <td>0.991984</td>\n",
              "    </tr>\n",
              "    <tr>\n",
              "      <th>3</th>\n",
              "      <td>19.48814</td>\n",
              "      <td>18.26634</td>\n",
              "      <td>17.63848</td>\n",
              "      <td>17.28905</td>\n",
              "      <td>17.06759</td>\n",
              "      <td>1.22180</td>\n",
              "      <td>0.62786</td>\n",
              "      <td>0.34943</td>\n",
              "      <td>0.22146</td>\n",
              "      <td>-1.22180</td>\n",
              "      <td>-0.62786</td>\n",
              "      <td>-0.34943</td>\n",
              "      <td>-0.22146</td>\n",
              "      <td>-0.12797</td>\n",
              "      <td>-0.27843</td>\n",
              "      <td>-0.59394</td>\n",
              "      <td>0.57089</td>\n",
              "      <td>0.27843</td>\n",
              "      <td>2.44360</td>\n",
              "      <td>-0.19528</td>\n",
              "      <td>-0.32833</td>\n",
              "      <td>2.16517</td>\n",
              "      <td>-0.29246</td>\n",
              "      <td>1.066888</td>\n",
              "      <td>1.035596</td>\n",
              "      <td>1.020211</td>\n",
              "      <td>1.012975</td>\n",
              "      <td>0.937305</td>\n",
              "      <td>0.965627</td>\n",
              "      <td>0.980189</td>\n",
              "      <td>0.987191</td>\n",
              "    </tr>\n",
              "    <tr>\n",
              "      <th>4</th>\n",
              "      <td>20.12428</td>\n",
              "      <td>18.22417</td>\n",
              "      <td>17.23645</td>\n",
              "      <td>16.80466</td>\n",
              "      <td>16.46161</td>\n",
              "      <td>1.90011</td>\n",
              "      <td>0.98772</td>\n",
              "      <td>0.43179</td>\n",
              "      <td>0.34305</td>\n",
              "      <td>-1.90011</td>\n",
              "      <td>-0.98772</td>\n",
              "      <td>-0.43179</td>\n",
              "      <td>-0.34305</td>\n",
              "      <td>-0.08874</td>\n",
              "      <td>-0.55593</td>\n",
              "      <td>-0.91239</td>\n",
              "      <td>0.77484</td>\n",
              "      <td>0.55593</td>\n",
              "      <td>3.80022</td>\n",
              "      <td>-0.47080</td>\n",
              "      <td>-0.35953</td>\n",
              "      <td>3.24429</td>\n",
              "      <td>-0.21891</td>\n",
              "      <td>1.104263</td>\n",
              "      <td>1.057304</td>\n",
              "      <td>1.025695</td>\n",
              "      <td>1.020839</td>\n",
              "      <td>0.905581</td>\n",
              "      <td>0.945802</td>\n",
              "      <td>0.974949</td>\n",
              "      <td>0.979586</td>\n",
              "    </tr>\n",
              "  </tbody>\n",
              "</table>\n",
              "</div>"
            ],
            "text/plain": [
              "    dered_u   dered_g   dered_r  ...        rg        ir        zi\n",
              "0  18.57944  16.71833  15.88108  ...  0.949920  0.975556  0.980011\n",
              "1  19.06882  17.68395  17.20045  ...  0.972659  0.983875  0.991178\n",
              "2  18.72212  17.65607  17.32132  ...  0.981041  0.989235  0.991984\n",
              "3  19.48814  18.26634  17.63848  ...  0.965627  0.980189  0.987191\n",
              "4  20.12428  18.22417  17.23645  ...  0.945802  0.974949  0.979586\n",
              "\n",
              "[5 rows x 31 columns]"
            ]
          },
          "metadata": {
            "tags": []
          },
          "execution_count": 18
        }
      ]
    },
    {
      "cell_type": "code",
      "metadata": {
        "id": "swr5rH_huxpx"
      },
      "source": [
        "test_sc = pd.DataFrame(scalar.fit_transform(dtest), columns=dtest.columns)"
      ],
      "execution_count": null,
      "outputs": []
    },
    {
      "cell_type": "code",
      "metadata": {
        "id": "6RQDkyZKkRer"
      },
      "source": [
        "prd3 =  knn.predict(test_sc)\n",
        "subprd3 = pd.DataFrame(prd3, columns=['Redshift']).to_csv('ToSubmit3.csv', index_label = 'Id')"
      ],
      "execution_count": null,
      "outputs": []
    },
    {
      "cell_type": "code",
      "metadata": {
        "id": "cCZd5roGqJXH"
      },
      "source": [
        "prd_forest2 = rn_forest.predict(test_sc)\n",
        "subprd_rf2 = pd.DataFrame(prd_forest2, columns=['Redshift']).to_csv('ToSubmit_RNF5.csv', index_label = 'Id')"
      ],
      "execution_count": null,
      "outputs": []
    },
    {
      "cell_type": "code",
      "metadata": {
        "id": "ZGOP4bEgl6eO"
      },
      "source": [
        "prd_tree =  ex_tree.predict(test_sc)\n",
        "subprd_tree = pd.DataFrame(prd_tree, columns=['Redshift']).to_csv('ToSubmit_ex2.csv', index_label = 'Id')"
      ],
      "execution_count": null,
      "outputs": []
    },
    {
      "cell_type": "code",
      "metadata": {
        "id": "UtuJsPSTrzKM"
      },
      "source": [
        "###################################################################################################"
      ],
      "execution_count": null,
      "outputs": []
    }
  ]
}