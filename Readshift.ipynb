{
  "nbformat": 4,
  "nbformat_minor": 0,
  "metadata": {
    "colab": {
      "name": "Readshift.ipynb",
      "provenance": [],
      "collapsed_sections": [],
      "toc_visible": true,
      "authorship_tag": "ABX9TyMJq4mrSMUk9vJAa6ZBf9ml",
      "include_colab_link": true
    },
    "kernelspec": {
      "name": "python3",
      "display_name": "Python 3"
    },
    "language_info": {
      "name": "python"
    }
  },
  "cells": [
    {
      "cell_type": "markdown",
      "metadata": {
        "id": "view-in-github",
        "colab_type": "text"
      },
      "source": [
        "<a href=\"https://colab.research.google.com/github/Bendeguzfrks04/DeepML/blob/main/Readshift.ipynb\" target=\"_parent\"><img src=\"https://colab.research.google.com/assets/colab-badge.svg\" alt=\"Open In Colab\"/></a>"
      ]
    },
    {
      "cell_type": "code",
      "metadata": {
        "colab": {
          "base_uri": "https://localhost:8080/"
        },
        "id": "C_n76DaJKZfg",
        "outputId": "509f7d5e-a8ac-4618-fe1f-bf08679be439"
      },
      "source": [
        "import numpy as np\n",
        "import pandas as pd\n",
        "import matplotlib.pyplot as plt\n",
        "import seaborn as sns\n",
        "\n",
        "from sklearn import datasets, cluster\n",
        "from sklearn.ensemble import RandomForestClassifier, RandomForestRegressor\n",
        "from sklearn import neighbors, ensemble, linear_model\n",
        "from sklearn.metrics import roc_auc_score, roc_curve\n",
        "from sklearn.tree import DecisionTreeClassifier, plot_tree\n",
        "from sklearn.model_selection import train_test_split\n",
        "import xgboost as xgb\n",
        "from collections import Counter\n",
        "%pylab inline"
      ],
      "execution_count": 1,
      "outputs": [
        {
          "output_type": "stream",
          "text": [
            "Populating the interactive namespace from numpy and matplotlib\n"
          ],
          "name": "stdout"
        }
      ]
    },
    {
      "cell_type": "code",
      "metadata": {
        "id": "_mz7edhTpyd_"
      },
      "source": [
        "def RMSE(sol, true):\n",
        "    return sqrt( ((sol - true)**2).mean() )"
      ],
      "execution_count": 2,
      "outputs": []
    },
    {
      "cell_type": "code",
      "metadata": {
        "id": "m8vqkelvLK-I"
      },
      "source": [
        "df = pd.read_csv(\"train.csv\")"
      ],
      "execution_count": 26,
      "outputs": []
    },
    {
      "cell_type": "code",
      "metadata": {
        "colab": {
          "base_uri": "https://localhost:8080/",
          "height": 297
        },
        "id": "-jHPdHdhLTar",
        "outputId": "9eff9f4f-2ca6-47f7-aa02-65b8b5ab4150"
      },
      "source": [
        "df.describe()"
      ],
      "execution_count": 51,
      "outputs": [
        {
          "output_type": "execute_result",
          "data": {
            "text/html": [
              "<div>\n",
              "<style scoped>\n",
              "    .dataframe tbody tr th:only-of-type {\n",
              "        vertical-align: middle;\n",
              "    }\n",
              "\n",
              "    .dataframe tbody tr th {\n",
              "        vertical-align: top;\n",
              "    }\n",
              "\n",
              "    .dataframe thead th {\n",
              "        text-align: right;\n",
              "    }\n",
              "</style>\n",
              "<table border=\"1\" class=\"dataframe\">\n",
              "  <thead>\n",
              "    <tr style=\"text-align: right;\">\n",
              "      <th></th>\n",
              "      <th>dered_u</th>\n",
              "      <th>dered_g</th>\n",
              "      <th>dered_r</th>\n",
              "      <th>dered_i</th>\n",
              "      <th>dered_z</th>\n",
              "      <th>ra</th>\n",
              "      <th>dec</th>\n",
              "      <th>redshift</th>\n",
              "    </tr>\n",
              "  </thead>\n",
              "  <tbody>\n",
              "    <tr>\n",
              "      <th>count</th>\n",
              "      <td>250000.000000</td>\n",
              "      <td>250000.000000</td>\n",
              "      <td>250000.000000</td>\n",
              "      <td>250000.000000</td>\n",
              "      <td>250000.000000</td>\n",
              "      <td>250000.000000</td>\n",
              "      <td>250000.000000</td>\n",
              "      <td>250000.000000</td>\n",
              "    </tr>\n",
              "    <tr>\n",
              "      <th>mean</th>\n",
              "      <td>19.287027</td>\n",
              "      <td>17.682524</td>\n",
              "      <td>16.927531</td>\n",
              "      <td>16.530984</td>\n",
              "      <td>16.207341</td>\n",
              "      <td>184.730686</td>\n",
              "      <td>24.308683</td>\n",
              "      <td>0.107049</td>\n",
              "    </tr>\n",
              "    <tr>\n",
              "      <th>std</th>\n",
              "      <td>34.718664</td>\n",
              "      <td>28.343544</td>\n",
              "      <td>0.750837</td>\n",
              "      <td>0.748181</td>\n",
              "      <td>20.045118</td>\n",
              "      <td>60.201872</td>\n",
              "      <td>18.673170</td>\n",
              "      <td>0.051697</td>\n",
              "    </tr>\n",
              "    <tr>\n",
              "      <th>min</th>\n",
              "      <td>-9999.000000</td>\n",
              "      <td>-9999.000000</td>\n",
              "      <td>11.050980</td>\n",
              "      <td>10.665400</td>\n",
              "      <td>-9999.000000</td>\n",
              "      <td>0.006459</td>\n",
              "      <td>-11.244081</td>\n",
              "      <td>0.000024</td>\n",
              "    </tr>\n",
              "    <tr>\n",
              "      <th>25%</th>\n",
              "      <td>18.837310</td>\n",
              "      <td>17.369700</td>\n",
              "      <td>16.598147</td>\n",
              "      <td>16.203610</td>\n",
              "      <td>15.904070</td>\n",
              "      <td>150.977836</td>\n",
              "      <td>9.280788</td>\n",
              "      <td>0.069596</td>\n",
              "    </tr>\n",
              "    <tr>\n",
              "      <th>50%</th>\n",
              "      <td>19.476425</td>\n",
              "      <td>17.942600</td>\n",
              "      <td>17.146305</td>\n",
              "      <td>16.742110</td>\n",
              "      <td>16.442920</td>\n",
              "      <td>185.849339</td>\n",
              "      <td>22.591795</td>\n",
              "      <td>0.101094</td>\n",
              "    </tr>\n",
              "    <tr>\n",
              "      <th>75%</th>\n",
              "      <td>20.094800</td>\n",
              "      <td>18.335392</td>\n",
              "      <td>17.474260</td>\n",
              "      <td>17.064700</td>\n",
              "      <td>16.775990</td>\n",
              "      <td>221.650615</td>\n",
              "      <td>38.153715</td>\n",
              "      <td>0.138921</td>\n",
              "    </tr>\n",
              "    <tr>\n",
              "      <th>max</th>\n",
              "      <td>30.066060</td>\n",
              "      <td>25.775880</td>\n",
              "      <td>18.670300</td>\n",
              "      <td>24.333480</td>\n",
              "      <td>26.726530</td>\n",
              "      <td>359.994924</td>\n",
              "      <td>70.268882</td>\n",
              "      <td>0.693718</td>\n",
              "    </tr>\n",
              "  </tbody>\n",
              "</table>\n",
              "</div>"
            ],
            "text/plain": [
              "             dered_u        dered_g  ...            dec       redshift\n",
              "count  250000.000000  250000.000000  ...  250000.000000  250000.000000\n",
              "mean       19.287027      17.682524  ...      24.308683       0.107049\n",
              "std        34.718664      28.343544  ...      18.673170       0.051697\n",
              "min     -9999.000000   -9999.000000  ...     -11.244081       0.000024\n",
              "25%        18.837310      17.369700  ...       9.280788       0.069596\n",
              "50%        19.476425      17.942600  ...      22.591795       0.101094\n",
              "75%        20.094800      18.335392  ...      38.153715       0.138921\n",
              "max        30.066060      25.775880  ...      70.268882       0.693718\n",
              "\n",
              "[8 rows x 8 columns]"
            ]
          },
          "metadata": {
            "tags": []
          },
          "execution_count": 51
        }
      ]
    },
    {
      "cell_type": "code",
      "metadata": {
        "id": "h4O6NuOgYP-m"
      },
      "source": [
        "df.replace(-9999.000000, 18.545691, inplace=True)"
      ],
      "execution_count": 27,
      "outputs": []
    },
    {
      "cell_type": "code",
      "metadata": {
        "id": "ghQj56wvn3ND"
      },
      "source": [
        "data = df.pop('redshift')\n",
        "X_train, X_test, Y_train, Y_test = train_test_split(df.values, data.values, test_size=0.20, random_state=42)"
      ],
      "execution_count": 8,
      "outputs": []
    },
    {
      "cell_type": "code",
      "metadata": {
        "colab": {
          "base_uri": "https://localhost:8080/",
          "height": 317
        },
        "id": "DaAUsAqwodnO",
        "outputId": "06509ee2-1162-41a7-f1e8-582c78b091e9"
      },
      "source": [
        "sns.heatmap(df.corr(), annot=True , linewidths=.5, fmt= '.1f')"
      ],
      "execution_count": 9,
      "outputs": [
        {
          "output_type": "execute_result",
          "data": {
            "text/plain": [
              "<matplotlib.axes._subplots.AxesSubplot at 0x7fc1247ba810>"
            ]
          },
          "metadata": {
            "tags": []
          },
          "execution_count": 9
        },
        {
          "output_type": "display_data",
          "data": {
            "image/png": "[encoded data removed]",
            "text/plain": [
              "<Figure size 432x288 with 2 Axes>"
            ]
          },
          "metadata": {
            "tags": [],
            "needs_background": "light"
          }
        }
      ]
    },
    {
      "cell_type": "code",
      "metadata": {
        "id": "ujSZFhCcs3KC"
      },
      "source": [
        "from sklearn.neighbors import KNeighborsRegressor"
      ],
      "execution_count": 9,
      "outputs": []
    },
    {
      "cell_type": "code",
      "metadata": {
        "id": "smokbek4qmAQ"
      },
      "source": [
        "#Models\n",
        "kmeans = cluster.KMeans(n_clusters=2, random_state=42)\n",
        "rf     = ensemble.RandomForestClassifier(random_state=42)\n",
        "dt     = DecisionTreeClassifier()\n",
        "lr     = linear_model.LogisticRegression()"
      ],
      "execution_count": 11,
      "outputs": []
    },
    {
      "cell_type": "code",
      "metadata": {
        "colab": {
          "base_uri": "https://localhost:8080/"
        },
        "id": "j9ceXt42sWy5",
        "outputId": "53f0ca99-b616-4544-9284-c6c450c25919"
      },
      "source": [
        "knn = KNeighborsRegressor(10)\n",
        "knn.fit(X_train, Y_train)\n",
        "preds = knn.predict(X_test)\n",
        "RMSE(preds, Y_test)\n"
      ],
      "execution_count": 12,
      "outputs": [
        {
          "output_type": "execute_result",
          "data": {
            "text/plain": [
              "0.03658829504320445"
            ]
          },
          "metadata": {
            "tags": []
          },
          "execution_count": 12
        }
      ]
    },
    {
      "cell_type": "code",
      "metadata": {
        "colab": {
          "base_uri": "https://localhost:8080/"
        },
        "id": "5iQFJ8I88Px9",
        "outputId": "8a28d541-80a3-4a06-954b-a2c53d749892"
      },
      "source": [
        "norma = (X_train - X_train.mean(axis=0)) / X_train.std(axis=0)\n",
        "X_test_scaled = (X_test - X_train.mean(axis=0)) / X_train.std(axis=0)\n",
        "norma.mean(0), norma.std(0)"
      ],
      "execution_count": 13,
      "outputs": [
        {
          "output_type": "execute_result",
          "data": {
            "text/plain": [
              "(array([ 2.54756248e-13,  2.66735333e-13, -1.19953388e-13,  3.40196974e-13,\n",
              "         1.27325915e-13,  3.84532095e-14, -2.38909115e-15]),\n",
              " array([1., 1., 1., 1., 1., 1., 1.]))"
            ]
          },
          "metadata": {
            "tags": []
          },
          "execution_count": 13
        }
      ]
    },
    {
      "cell_type": "code",
      "metadata": {
        "colab": {
          "base_uri": "https://localhost:8080/"
        },
        "id": "6UPmKFGR8OZv",
        "outputId": "ee49fde0-d286-4aa0-c767-97d51d91d357"
      },
      "source": [
        "knn.fit(norma, Y_train)\n",
        "preds = knn.predict(X_test_scaled)\n",
        "\n",
        "RMSE(preds, Y_test)"
      ],
      "execution_count": 41,
      "outputs": [
        {
          "output_type": "execute_result",
          "data": {
            "text/plain": [
              "0.027027558530832635"
            ]
          },
          "metadata": {
            "tags": []
          },
          "execution_count": 41
        }
      ]
    },
    {
      "cell_type": "code",
      "metadata": {
        "colab": {
          "base_uri": "https://localhost:8080/"
        },
        "id": "tErN2A9xzkez",
        "outputId": "73362a9f-6370-4546-ef93-d39c1004f33b"
      },
      "source": [
        "knn.fit(norma[:,0:5], Y_train)  #fit only on the magnitudes\n",
        "preds = knn.predict(X_test_scaled[:,0:5]) #predict only on the magnitudes\n",
        "\n",
        "RMSE(preds, Y_test)"
      ],
      "execution_count": 42,
      "outputs": [
        {
          "output_type": "execute_result",
          "data": {
            "text/plain": [
              "0.021555442883598796"
            ]
          },
          "metadata": {
            "tags": []
          },
          "execution_count": 42
        }
      ]
    },
    {
      "cell_type": "code",
      "metadata": {
        "id": "XXl2eSf-EZNl"
      },
      "source": [
        "from sklearn.preprocessing import StandardScaler\n",
        "scalar = StandardScaler()"
      ],
      "execution_count": 8,
      "outputs": []
    },
    {
      "cell_type": "code",
      "metadata": {
        "id": "UFaW-3yvEMrQ"
      },
      "source": [
        "scalar = StandardScaler()"
      ],
      "execution_count": 17,
      "outputs": []
    },
    {
      "cell_type": "code",
      "metadata": {
        "id": "TbOtlRrtFFVm"
      },
      "source": [
        "dtest = pd.read_csv(\"testX.csv\")"
      ],
      "execution_count": 18,
      "outputs": []
    },
    {
      "cell_type": "code",
      "metadata": {
        "colab": {
          "base_uri": "https://localhost:8080/",
          "height": 297
        },
        "id": "FbZGnDbTEuRC",
        "outputId": "45f7a16f-aba8-4ffa-cb5d-6a737f5eeb11"
      },
      "source": [
        "dtest = pd.read_csv(\"testX.csv\")\n",
        "dtest.replace(-9999.000000, 18.545691, inplace=True)\n",
        "dtest.describe()"
      ],
      "execution_count": 19,
      "outputs": [
        {
          "output_type": "execute_result",
          "data": {
            "text/html": [
              "<div>\n",
              "<style scoped>\n",
              "    .dataframe tbody tr th:only-of-type {\n",
              "        vertical-align: middle;\n",
              "    }\n",
              "\n",
              "    .dataframe tbody tr th {\n",
              "        vertical-align: top;\n",
              "    }\n",
              "\n",
              "    .dataframe thead th {\n",
              "        text-align: right;\n",
              "    }\n",
              "</style>\n",
              "<table border=\"1\" class=\"dataframe\">\n",
              "  <thead>\n",
              "    <tr style=\"text-align: right;\">\n",
              "      <th></th>\n",
              "      <th>dered_u</th>\n",
              "      <th>dered_g</th>\n",
              "      <th>dered_r</th>\n",
              "      <th>dered_i</th>\n",
              "      <th>dered_z</th>\n",
              "      <th>ra</th>\n",
              "      <th>dec</th>\n",
              "      <th>ID</th>\n",
              "    </tr>\n",
              "  </thead>\n",
              "  <tbody>\n",
              "    <tr>\n",
              "      <th>count</th>\n",
              "      <td>250000.000000</td>\n",
              "      <td>250000.000000</td>\n",
              "      <td>250000.000000</td>\n",
              "      <td>250000.000000</td>\n",
              "      <td>250000.000000</td>\n",
              "      <td>250000.000000</td>\n",
              "      <td>250000.000000</td>\n",
              "      <td>250000.000000</td>\n",
              "    </tr>\n",
              "    <tr>\n",
              "      <th>mean</th>\n",
              "      <td>19.407799</td>\n",
              "      <td>17.763723</td>\n",
              "      <td>16.928125</td>\n",
              "      <td>16.531663</td>\n",
              "      <td>16.248073</td>\n",
              "      <td>184.881031</td>\n",
              "      <td>24.373270</td>\n",
              "      <td>124999.500000</td>\n",
              "    </tr>\n",
              "    <tr>\n",
              "      <th>std</th>\n",
              "      <td>0.988755</td>\n",
              "      <td>0.825710</td>\n",
              "      <td>0.754043</td>\n",
              "      <td>0.752050</td>\n",
              "      <td>0.769482</td>\n",
              "      <td>59.955587</td>\n",
              "      <td>18.686513</td>\n",
              "      <td>72168.927986</td>\n",
              "    </tr>\n",
              "    <tr>\n",
              "      <th>min</th>\n",
              "      <td>13.115050</td>\n",
              "      <td>11.879760</td>\n",
              "      <td>11.014940</td>\n",
              "      <td>10.584090</td>\n",
              "      <td>10.336530</td>\n",
              "      <td>0.004289</td>\n",
              "      <td>-11.252825</td>\n",
              "      <td>0.000000</td>\n",
              "    </tr>\n",
              "    <tr>\n",
              "      <th>25%</th>\n",
              "      <td>18.839950</td>\n",
              "      <td>17.369050</td>\n",
              "      <td>16.599410</td>\n",
              "      <td>16.204670</td>\n",
              "      <td>15.903587</td>\n",
              "      <td>151.295751</td>\n",
              "      <td>9.307271</td>\n",
              "      <td>62499.750000</td>\n",
              "    </tr>\n",
              "    <tr>\n",
              "      <th>50%</th>\n",
              "      <td>19.478290</td>\n",
              "      <td>17.945970</td>\n",
              "      <td>17.149180</td>\n",
              "      <td>16.743670</td>\n",
              "      <td>16.446075</td>\n",
              "      <td>185.958103</td>\n",
              "      <td>22.694393</td>\n",
              "      <td>124999.500000</td>\n",
              "    </tr>\n",
              "    <tr>\n",
              "      <th>75%</th>\n",
              "      <td>20.098837</td>\n",
              "      <td>18.339890</td>\n",
              "      <td>17.477320</td>\n",
              "      <td>17.067160</td>\n",
              "      <td>16.777130</td>\n",
              "      <td>221.791583</td>\n",
              "      <td>38.244590</td>\n",
              "      <td>187499.250000</td>\n",
              "    </tr>\n",
              "    <tr>\n",
              "      <th>max</th>\n",
              "      <td>29.409720</td>\n",
              "      <td>25.213750</td>\n",
              "      <td>18.430950</td>\n",
              "      <td>29.534010</td>\n",
              "      <td>27.901230</td>\n",
              "      <td>359.997379</td>\n",
              "      <td>70.172744</td>\n",
              "      <td>249999.000000</td>\n",
              "    </tr>\n",
              "  </tbody>\n",
              "</table>\n",
              "</div>"
            ],
            "text/plain": [
              "             dered_u        dered_g  ...            dec             ID\n",
              "count  250000.000000  250000.000000  ...  250000.000000  250000.000000\n",
              "mean       19.407799      17.763723  ...      24.373270  124999.500000\n",
              "std         0.988755       0.825710  ...      18.686513   72168.927986\n",
              "min        13.115050      11.879760  ...     -11.252825       0.000000\n",
              "25%        18.839950      17.369050  ...       9.307271   62499.750000\n",
              "50%        19.478290      17.945970  ...      22.694393  124999.500000\n",
              "75%        20.098837      18.339890  ...      38.244590  187499.250000\n",
              "max        29.409720      25.213750  ...      70.172744  249999.000000\n",
              "\n",
              "[8 rows x 8 columns]"
            ]
          },
          "metadata": {
            "tags": []
          },
          "execution_count": 19
        }
      ]
    },
    {
      "cell_type": "code",
      "metadata": {
        "id": "nze60FmQFDox"
      },
      "source": [
        "test_sc = pd.DataFrame(scalar.fit_transform(dtest), columns=dtest.columns)"
      ],
      "execution_count": 20,
      "outputs": []
    },
    {
      "cell_type": "code",
      "metadata": {
        "id": "XxxyxcF8HuNF"
      },
      "source": [
        "test_sc = test_sc.iloc[:,0:5]"
      ],
      "execution_count": 21,
      "outputs": []
    },
    {
      "cell_type": "code",
      "metadata": {
        "id": "BKSY3COkH69V"
      },
      "source": [
        "prd =  knn.predict(test_sc)\n",
        "subprd = pd.DataFrame(prd, columns=['Redshift']).to_csv('ToSubmit.csv', index_label = 'Id')"
      ],
      "execution_count": 22,
      "outputs": []
    },
    {
      "cell_type": "code",
      "metadata": {
        "id": "wI6vevt8ukc2",
        "colab": {
          "base_uri": "https://localhost:8080/",
          "height": 88
        },
        "outputId": "975a46ec-dc72-4b2d-b240-de22e2092266"
      },
      "source": [
        "'''''\n",
        "X_train_scaled_extrafeatures = numpy.zeros((199997, 4))\n",
        "\n",
        "for i in range(199997):\n",
        "  X_train_scaled_extrafeatures[i][0] = (norma[:,1:2] - norma[:,0:1])[i]\n",
        "  X_train_scaled_extrafeatures[i][1] = (norma[:,2:3] - norma[:,1:2])[i]\n",
        "  X_train_scaled_extrafeatures[i][2] = (norma[:,3:4] - norma[:,2:3])[i]\n",
        "  X_train_scaled_extrafeatures[i][3] = (norma[:,4:5] - norma[:,3:4])[i]\n",
        "#X_train_scaled_extrafeatures = [new1, new2, new3, new4]\n",
        "'''''"
      ],
      "execution_count": 23,
      "outputs": [
        {
          "output_type": "execute_result",
          "data": {
            "application/vnd.google.colaboratory.intrinsic+json": {
              "type": "string"
            },
            "text/plain": [
              "\"''\\nX_train_scaled_extrafeatures = numpy.zeros((199997, 4))\\n\\nfor i in range(199997):\\n  X_train_scaled_extrafeatures[i][0] = (norma[:,1:2] - norma[:,0:1])[i]\\n  X_train_scaled_extrafeatures[i][1] = (norma[:,2:3] - norma[:,1:2])[i]\\n  X_train_scaled_extrafeatures[i][2] = (norma[:,3:4] - norma[:,2:3])[i]\\n  X_train_scaled_extrafeatures[i][3] = (norma[:,4:5] - norma[:,3:4])[i]\\n#X_train_scaled_extrafeatures = [new1, new2, new3, new4]\\n\""
            ]
          },
          "metadata": {
            "tags": []
          },
          "execution_count": 23
        }
      ]
    },
    {
      "cell_type": "code",
      "metadata": {
        "colab": {
          "base_uri": "https://localhost:8080/",
          "height": 204
        },
        "id": "bGSXUDWnUDGS",
        "outputId": "25eed10a-eb45-4d66-cb37-6789ed6f6773"
      },
      "source": [
        "test_sc2 = test_sc.iloc[:,0:5]\n",
        "test_sc2.head()"
      ],
      "execution_count": 25,
      "outputs": [
        {
          "output_type": "execute_result",
          "data": {
            "text/html": [
              "<div>\n",
              "<style scoped>\n",
              "    .dataframe tbody tr th:only-of-type {\n",
              "        vertical-align: middle;\n",
              "    }\n",
              "\n",
              "    .dataframe tbody tr th {\n",
              "        vertical-align: top;\n",
              "    }\n",
              "\n",
              "    .dataframe thead th {\n",
              "        text-align: right;\n",
              "    }\n",
              "</style>\n",
              "<table border=\"1\" class=\"dataframe\">\n",
              "  <thead>\n",
              "    <tr style=\"text-align: right;\">\n",
              "      <th></th>\n",
              "      <th>dered_u</th>\n",
              "      <th>dered_g</th>\n",
              "      <th>dered_r</th>\n",
              "      <th>dered_i</th>\n",
              "      <th>dered_z</th>\n",
              "    </tr>\n",
              "  </thead>\n",
              "  <tbody>\n",
              "    <tr>\n",
              "      <th>0</th>\n",
              "      <td>-0.837782</td>\n",
              "      <td>-1.266056</td>\n",
              "      <td>-1.388577</td>\n",
              "      <td>-1.381272</td>\n",
              "      <td>-1.383886</td>\n",
              "    </tr>\n",
              "    <tr>\n",
              "      <th>1</th>\n",
              "      <td>-0.342835</td>\n",
              "      <td>-0.096612</td>\n",
              "      <td>0.361154</td>\n",
              "      <td>0.520494</td>\n",
              "      <td>0.683237</td>\n",
              "    </tr>\n",
              "    <tr>\n",
              "      <th>2</th>\n",
              "      <td>-0.693479</td>\n",
              "      <td>-0.130377</td>\n",
              "      <td>0.521450</td>\n",
              "      <td>0.802059</td>\n",
              "      <td>0.973927</td>\n",
              "    </tr>\n",
              "    <tr>\n",
              "      <th>3</th>\n",
              "      <td>0.081255</td>\n",
              "      <td>0.608710</td>\n",
              "      <td>0.942064</td>\n",
              "      <td>1.007099</td>\n",
              "      <td>1.065027</td>\n",
              "    </tr>\n",
              "    <tr>\n",
              "      <th>4</th>\n",
              "      <td>0.724631</td>\n",
              "      <td>0.557638</td>\n",
              "      <td>0.408897</td>\n",
              "      <td>0.363005</td>\n",
              "      <td>0.277509</td>\n",
              "    </tr>\n",
              "  </tbody>\n",
              "</table>\n",
              "</div>"
            ],
            "text/plain": [
              "    dered_u   dered_g   dered_r   dered_i   dered_z\n",
              "0 -0.837782 -1.266056 -1.388577 -1.381272 -1.383886\n",
              "1 -0.342835 -0.096612  0.361154  0.520494  0.683237\n",
              "2 -0.693479 -0.130377  0.521450  0.802059  0.973927\n",
              "3  0.081255  0.608710  0.942064  1.007099  1.065027\n",
              "4  0.724631  0.557638  0.408897  0.363005  0.277509"
            ]
          },
          "metadata": {
            "tags": []
          },
          "execution_count": 25
        }
      ]
    },
    {
      "cell_type": "code",
      "metadata": {
        "id": "3LHooDmvaYo_"
      },
      "source": [
        "from sklearn.preprocessing import PolynomialFeatures"
      ],
      "execution_count": 27,
      "outputs": []
    },
    {
      "cell_type": "code",
      "metadata": {
        "colab": {
          "base_uri": "https://localhost:8080/",
          "height": 204
        },
        "id": "FWNfHxljKxo_",
        "outputId": "af95ef11-3dc5-4020-e8db-b3a767989088"
      },
      "source": [
        "# Creating features (substraction):\n",
        "test_sc2 = test_sc2.assign(u_g=test_sc2.dered_u-test_sc2.dered_g)\n",
        "test_sc2 = test_sc2.assign(g_r=test_sc2.dered_g-test_sc2.dered_r)\n",
        "test_sc2 = test_sc2.assign(r_i=test_sc2.dered_r-test_sc2.dered_i)\n",
        "test_sc2 = test_sc2.assign(i_z=test_sc2.dered_i-test_sc2.dered_z)\n",
        "\n",
        "# Creating variables with polynomial expansion:\n",
        "# http://scikit-learn.org/stable/modules/generated/sklearn.preprocessing.PolynomialFeatures.html\n",
        "# Generate a new feature matrix consisting of all polynomial combinations of the features with degree less than or equal to the specified degree. \n",
        "#For example, if an input sample is two dimensional and of the form [a, b], the degree-2 polynomial features are [1, a, b, a^2, ab, b^2].\n",
        "#p = PolynomialFeatures(degree=2, include_bias=False).fit(test_sc2)\n",
        "features = pd.DataFrame(scalar.fit_transform(test_sc2), columns=test_sc2.columns)\n",
        "\n",
        "features.head()"
      ],
      "execution_count": 34,
      "outputs": [
        {
          "output_type": "execute_result",
          "data": {
            "text/html": [
              "<div>\n",
              "<style scoped>\n",
              "    .dataframe tbody tr th:only-of-type {\n",
              "        vertical-align: middle;\n",
              "    }\n",
              "\n",
              "    .dataframe tbody tr th {\n",
              "        vertical-align: top;\n",
              "    }\n",
              "\n",
              "    .dataframe thead th {\n",
              "        text-align: right;\n",
              "    }\n",
              "</style>\n",
              "<table border=\"1\" class=\"dataframe\">\n",
              "  <thead>\n",
              "    <tr style=\"text-align: right;\">\n",
              "      <th></th>\n",
              "      <th>dered_u</th>\n",
              "      <th>dered_g</th>\n",
              "      <th>dered_r</th>\n",
              "      <th>dered_i</th>\n",
              "      <th>dered_z</th>\n",
              "      <th>u_g</th>\n",
              "      <th>g_r</th>\n",
              "      <th>r_i</th>\n",
              "      <th>i_z</th>\n",
              "    </tr>\n",
              "  </thead>\n",
              "  <tbody>\n",
              "    <tr>\n",
              "      <th>0</th>\n",
              "      <td>-0.837782</td>\n",
              "      <td>-1.266056</td>\n",
              "      <td>-1.388577</td>\n",
              "      <td>-1.381272</td>\n",
              "      <td>-1.383886</td>\n",
              "      <td>1.058906</td>\n",
              "      <td>0.385287</td>\n",
              "      <td>-0.057392</td>\n",
              "      <td>0.017842</td>\n",
              "    </tr>\n",
              "    <tr>\n",
              "      <th>1</th>\n",
              "      <td>-0.342835</td>\n",
              "      <td>-0.096612</td>\n",
              "      <td>0.361154</td>\n",
              "      <td>0.520494</td>\n",
              "      <td>0.683237</td>\n",
              "      <td>-0.608786</td>\n",
              "      <td>-1.439514</td>\n",
              "      <td>-1.251742</td>\n",
              "      <td>-1.110640</td>\n",
              "    </tr>\n",
              "    <tr>\n",
              "      <th>2</th>\n",
              "      <td>-0.693479</td>\n",
              "      <td>-0.130377</td>\n",
              "      <td>0.521450</td>\n",
              "      <td>0.802059</td>\n",
              "      <td>0.973927</td>\n",
              "      <td>-1.392269</td>\n",
              "      <td>-2.049768</td>\n",
              "      <td>-2.204397</td>\n",
              "      <td>-1.172916</td>\n",
              "    </tr>\n",
              "    <tr>\n",
              "      <th>3</th>\n",
              "      <td>0.081255</td>\n",
              "      <td>0.608710</td>\n",
              "      <td>0.942064</td>\n",
              "      <td>1.007099</td>\n",
              "      <td>1.065027</td>\n",
              "      <td>-1.304131</td>\n",
              "      <td>-1.048282</td>\n",
              "      <td>-0.510901</td>\n",
              "      <td>-0.395334</td>\n",
              "    </tr>\n",
              "    <tr>\n",
              "      <th>4</th>\n",
              "      <td>0.724631</td>\n",
              "      <td>0.557638</td>\n",
              "      <td>0.408897</td>\n",
              "      <td>0.363005</td>\n",
              "      <td>0.277509</td>\n",
              "      <td>0.412889</td>\n",
              "      <td>0.467741</td>\n",
              "      <td>0.360519</td>\n",
              "      <td>0.583470</td>\n",
              "    </tr>\n",
              "  </tbody>\n",
              "</table>\n",
              "</div>"
            ],
            "text/plain": [
              "    dered_u   dered_g   dered_r  ...       g_r       r_i       i_z\n",
              "0 -0.837782 -1.266056 -1.388577  ...  0.385287 -0.057392  0.017842\n",
              "1 -0.342835 -0.096612  0.361154  ... -1.439514 -1.251742 -1.110640\n",
              "2 -0.693479 -0.130377  0.521450  ... -2.049768 -2.204397 -1.172916\n",
              "3  0.081255  0.608710  0.942064  ... -1.048282 -0.510901 -0.395334\n",
              "4  0.724631  0.557638  0.408897  ...  0.467741  0.360519  0.583470\n",
              "\n",
              "[5 rows x 9 columns]"
            ]
          },
          "metadata": {
            "tags": []
          },
          "execution_count": 34
        }
      ]
    },
    {
      "cell_type": "code",
      "metadata": {
        "id": "ZVMiRUftKoja"
      },
      "source": [
        "test_anyad = test_sc2.iloc[:,5:9]\n",
        "prd2 =  knn.predict(test_anyad)\n",
        "#RMSE(knn.predict(test_sc2), Y_test)"
      ],
      "execution_count": null,
      "outputs": []
    },
    {
      "cell_type": "code",
      "metadata": {
        "id": "pj6zCI9R9qXN"
      },
      "source": [
        "subprd2 = pd.DataFrame(prd2, columns=['Redshift']).to_csv('ToSubmit2.csv', index_label = 'Id')"
      ],
      "execution_count": 35,
      "outputs": []
    },
    {
      "cell_type": "code",
      "metadata": {
        "colab": {
          "base_uri": "https://localhost:8080/"
        },
        "id": "-XHNR4zVLN-n",
        "outputId": "910a8d2d-91e8-455e-97de-b5be9c2b225c"
      },
      "source": [
        "data = pd.DataFrame(split)"
      ],
      "execution_count": 56,
      "outputs": [
        {
          "output_type": "stream",
          "text": [
            "/usr/local/lib/python3.7/dist-packages/pandas/core/internals/construction.py:305: VisibleDeprecationWarning: Creating an ndarray from ragged nested sequences (which is a list-or-tuple of lists-or-tuples-or ndarrays with different lengths or shapes) is deprecated. If you meant to do this, you must specify 'dtype=object' when creating the ndarray\n",
            "  values = np.array([convert(v) for v in values])\n"
          ],
          "name": "stderr"
        }
      ]
    },
    {
      "cell_type": "code",
      "metadata": {
        "id": "P-jMmu0nvW5C"
      },
      "source": [
        "\n",
        "#below 3 point baseline\n",
        "knn.fit(data, Y_train)\n",
        "preds = knn.predict(X_test_scaled_extrafeatures)\n",
        "\n",
        "RMSE(preds, Y_test)\n"
      ],
      "execution_count": null,
      "outputs": []
    },
    {
      "cell_type": "code",
      "metadata": {
        "id": "flhy6HQQ1X6d",
        "colab": {
          "base_uri": "https://localhost:8080/"
        },
        "outputId": "e39f3c1c-7a2f-4947-d79b-ff596786c3db"
      },
      "source": [
        "shape(features)"
      ],
      "execution_count": 31,
      "outputs": [
        {
          "output_type": "execute_result",
          "data": {
            "text/plain": [
              "(250000, 54)"
            ]
          },
          "metadata": {
            "tags": []
          },
          "execution_count": 31
        }
      ]
    },
    {
      "cell_type": "code",
      "metadata": {
        "colab": {
          "base_uri": "https://localhost:8080/"
        },
        "id": "Z8LbXy8POJuQ",
        "outputId": "078baee7-46e9-49fc-bb45-3b57c9ec4415"
      },
      "source": [
        "type(norma)"
      ],
      "execution_count": 80,
      "outputs": [
        {
          "output_type": "execute_result",
          "data": {
            "text/plain": [
              "numpy.ndarray"
            ]
          },
          "metadata": {
            "tags": []
          },
          "execution_count": 80
        }
      ]
    },
    {
      "cell_type": "code",
      "metadata": {
        "id": "d4fmdv1ySg_i"
      },
      "source": [
        "extre = ensemble.ExtraTreesRegressor()\n",
        "extre.fit(norma[:,0:5], Y_train)\n",
        "\n",
        "preds = extre.predict(X_test_scaled)\n",
        "\n",
        "RMSE(preds, Y_test)"
      ],
      "execution_count": null,
      "outputs": []
    },
    {
      "cell_type": "code",
      "metadata": {
        "id": "GPxi2plartXu"
      },
      "source": [
        "############################################################################################"
      ],
      "execution_count": 87,
      "outputs": []
    },
    {
      "cell_type": "code",
      "metadata": {
        "colab": {
          "base_uri": "https://localhost:8080/",
          "height": 204
        },
        "id": "VcC_X2zRfg2e",
        "outputId": "278de2b3-de2a-4451-bed3-761eefd1fe4a"
      },
      "source": [
        "# Creating features (substraction):\n",
        "df = df.assign(u_g=df.dered_u-df.dered_g)\n",
        "df = df.assign(g_r=df.dered_g-df.dered_r)\n",
        "df = df.assign(r_i=df.dered_r-df.dered_i)\n",
        "df = df.assign(i_z=df.dered_i-df.dered_z)\n",
        "#features = pd.DataFrame(scalar.fit_transform(df), columns=df.columns)\n",
        "\n",
        "df.head()"
      ],
      "execution_count": 5,
      "outputs": [
        {
          "output_type": "execute_result",
          "data": {
            "text/html": [
              "<div>\n",
              "<style scoped>\n",
              "    .dataframe tbody tr th:only-of-type {\n",
              "        vertical-align: middle;\n",
              "    }\n",
              "\n",
              "    .dataframe tbody tr th {\n",
              "        vertical-align: top;\n",
              "    }\n",
              "\n",
              "    .dataframe thead th {\n",
              "        text-align: right;\n",
              "    }\n",
              "</style>\n",
              "<table border=\"1\" class=\"dataframe\">\n",
              "  <thead>\n",
              "    <tr style=\"text-align: right;\">\n",
              "      <th></th>\n",
              "      <th>dered_u</th>\n",
              "      <th>dered_g</th>\n",
              "      <th>dered_r</th>\n",
              "      <th>dered_i</th>\n",
              "      <th>dered_z</th>\n",
              "      <th>redshift</th>\n",
              "      <th>u_g</th>\n",
              "      <th>g_r</th>\n",
              "      <th>r_i</th>\n",
              "      <th>i_z</th>\n",
              "    </tr>\n",
              "  </thead>\n",
              "  <tbody>\n",
              "    <tr>\n",
              "      <th>0</th>\n",
              "      <td>19.18902</td>\n",
              "      <td>17.12673</td>\n",
              "      <td>16.17146</td>\n",
              "      <td>15.72892</td>\n",
              "      <td>15.38018</td>\n",
              "      <td>0.073469</td>\n",
              "      <td>2.06229</td>\n",
              "      <td>0.95527</td>\n",
              "      <td>0.44254</td>\n",
              "      <td>0.34874</td>\n",
              "    </tr>\n",
              "    <tr>\n",
              "      <th>1</th>\n",
              "      <td>19.71668</td>\n",
              "      <td>17.91488</td>\n",
              "      <td>17.06592</td>\n",
              "      <td>16.67560</td>\n",
              "      <td>16.41773</td>\n",
              "      <td>0.067499</td>\n",
              "      <td>1.80180</td>\n",
              "      <td>0.84896</td>\n",
              "      <td>0.39032</td>\n",
              "      <td>0.25787</td>\n",
              "    </tr>\n",
              "    <tr>\n",
              "      <th>2</th>\n",
              "      <td>19.73791</td>\n",
              "      <td>18.18637</td>\n",
              "      <td>17.31132</td>\n",
              "      <td>16.86139</td>\n",
              "      <td>16.57027</td>\n",
              "      <td>0.121360</td>\n",
              "      <td>1.55154</td>\n",
              "      <td>0.87505</td>\n",
              "      <td>0.44993</td>\n",
              "      <td>0.29112</td>\n",
              "    </tr>\n",
              "    <tr>\n",
              "      <th>3</th>\n",
              "      <td>19.29196</td>\n",
              "      <td>17.68699</td>\n",
              "      <td>16.91789</td>\n",
              "      <td>16.54745</td>\n",
              "      <td>16.24734</td>\n",
              "      <td>0.083287</td>\n",
              "      <td>1.60497</td>\n",
              "      <td>0.76910</td>\n",
              "      <td>0.37044</td>\n",
              "      <td>0.30011</td>\n",
              "    </tr>\n",
              "    <tr>\n",
              "      <th>4</th>\n",
              "      <td>19.99879</td>\n",
              "      <td>18.26889</td>\n",
              "      <td>17.44174</td>\n",
              "      <td>17.05618</td>\n",
              "      <td>16.75268</td>\n",
              "      <td>0.098327</td>\n",
              "      <td>1.72990</td>\n",
              "      <td>0.82715</td>\n",
              "      <td>0.38556</td>\n",
              "      <td>0.30350</td>\n",
              "    </tr>\n",
              "  </tbody>\n",
              "</table>\n",
              "</div>"
            ],
            "text/plain": [
              "    dered_u   dered_g   dered_r   dered_i  ...      u_g      g_r      r_i      i_z\n",
              "0  19.18902  17.12673  16.17146  15.72892  ...  2.06229  0.95527  0.44254  0.34874\n",
              "1  19.71668  17.91488  17.06592  16.67560  ...  1.80180  0.84896  0.39032  0.25787\n",
              "2  19.73791  18.18637  17.31132  16.86139  ...  1.55154  0.87505  0.44993  0.29112\n",
              "3  19.29196  17.68699  16.91789  16.54745  ...  1.60497  0.76910  0.37044  0.30011\n",
              "4  19.99879  18.26889  17.44174  17.05618  ...  1.72990  0.82715  0.38556  0.30350\n",
              "\n",
              "[5 rows x 10 columns]"
            ]
          },
          "metadata": {
            "tags": []
          },
          "execution_count": 5
        }
      ]
    },
    {
      "cell_type": "code",
      "metadata": {
        "id": "8RVopxUgfqwn"
      },
      "source": [
        "kula = df.pop('dec')\n",
        "kuka = df.pop('ra')"
      ],
      "execution_count": 28,
      "outputs": []
    },
    {
      "cell_type": "code",
      "metadata": {
        "id": "ourTtiHDcWcZ"
      },
      "source": [
        "data = df.pop('redshift')\n",
        "X_train, X_test, Y_train, Y_test = train_test_split(df.values, data.values, test_size=0.20, random_state=42)"
      ],
      "execution_count": 29,
      "outputs": []
    },
    {
      "cell_type": "code",
      "metadata": {
        "colab": {
          "base_uri": "https://localhost:8080/"
        },
        "id": "oEF2NfcOgsCg",
        "outputId": "bc0bcede-5ee8-404f-cdff-3acb6583df01"
      },
      "source": [
        "knn = KNeighborsRegressor(20)\n",
        "knn.fit(X_train, Y_train)\n",
        "preds = knn.predict(X_test)\n",
        "RMSE(preds, Y_test)"
      ],
      "execution_count": 10,
      "outputs": [
        {
          "output_type": "execute_result",
          "data": {
            "text/plain": [
              "0.020840883337263777"
            ]
          },
          "metadata": {
            "tags": []
          },
          "execution_count": 10
        }
      ]
    },
    {
      "cell_type": "code",
      "metadata": {
        "colab": {
          "base_uri": "https://localhost:8080/"
        },
        "id": "NoINxL_8hGJi",
        "outputId": "e39e70ab-5bed-4adf-c60c-d4030b8dd8d6"
      },
      "source": [
        "norma = (X_train - X_train.mean(axis=0)) / X_train.std(axis=0)\n",
        "X_test_scaled = (X_test - X_train.mean(axis=0)) / X_train.std(axis=0)\n",
        "norma.mean(0), norma.std(0)"
      ],
      "execution_count": 31,
      "outputs": [
        {
          "output_type": "execute_result",
          "data": {
            "text/plain": [
              "(array([ 2.54756248e-13,  2.66735333e-13, -1.19953388e-13,  3.40196974e-13,\n",
              "         1.27325915e-13]), array([1., 1., 1., 1., 1.]))"
            ]
          },
          "metadata": {
            "tags": []
          },
          "execution_count": 31
        }
      ]
    },
    {
      "cell_type": "code",
      "metadata": {
        "colab": {
          "base_uri": "https://localhost:8080/"
        },
        "id": "33kjoYUchOC4",
        "outputId": "adefec26-845b-47f1-e952-cbdc343f84c5"
      },
      "source": [
        "knn = KNeighborsRegressor(20)\n",
        "knn.fit(norma, Y_train)\n",
        "preds = knn.predict(X_test_scaled)\n",
        "RMSE(preds, Y_test)"
      ],
      "execution_count": 104,
      "outputs": [
        {
          "output_type": "execute_result",
          "data": {
            "text/plain": [
              "0.020000360162310726"
            ]
          },
          "metadata": {
            "tags": []
          },
          "execution_count": 104
        }
      ]
    },
    {
      "cell_type": "code",
      "metadata": {
        "id": "MCGYAu5s3g9i"
      },
      "source": [
        "from sklearn import neural_network\n",
        "neural_network."
      ],
      "execution_count": 117,
      "outputs": []
    },
    {
      "cell_type": "code",
      "metadata": {
        "colab": {
          "base_uri": "https://localhost:8080/"
        },
        "id": "RWoE7Hhv8QBG",
        "outputId": "dfea102f-4bea-42e3-9ba5-50dc2c80c5a2"
      },
      "source": [
        "xgb = xgb.XGBRegressor()\n",
        "xgb.fit(X_train, Y_train)\n",
        "#test_x = X_test_scaled.values\n",
        "preds = xgb.predict(X_test)\n",
        "\n",
        "RMSE(preds, Y_test)"
      ],
      "execution_count": 18,
      "outputs": [
        {
          "output_type": "stream",
          "text": [
            "[21:48:36] WARNING: /workspace/src/objective/regression_obj.cu:152: reg:linear is now deprecated in favor of reg:squarederror.\n"
          ],
          "name": "stdout"
        },
        {
          "output_type": "execute_result",
          "data": {
            "text/plain": [
              "0.02086483137830457"
            ]
          },
          "metadata": {
            "tags": []
          },
          "execution_count": 18
        }
      ]
    },
    {
      "cell_type": "code",
      "metadata": {
        "colab": {
          "base_uri": "https://localhost:8080/"
        },
        "id": "O9sT90bG3QWi",
        "outputId": "68432a8a-c405-42d6-ee02-963b6dc1f10b"
      },
      "source": [
        "neural = neural_network.MLPRegressor(hidden_layer_sizes=(120,), activation='relu',learning_rate_init=0.0001)\n",
        "neural.fit(norma2, Y2_train)\n",
        "\n",
        "preds = neural.predict(X2_test_scaled)\n",
        "\n",
        "RMSE(preds, Y2_test)"
      ],
      "execution_count": 123,
      "outputs": [
        {
          "output_type": "execute_result",
          "data": {
            "text/plain": [
              "0.023944473877162475"
            ]
          },
          "metadata": {
            "tags": []
          },
          "execution_count": 123
        }
      ]
    },
    {
      "cell_type": "code",
      "metadata": {
        "colab": {
          "base_uri": "https://localhost:8080/"
        },
        "id": "vKdIa1sOiEKH",
        "outputId": "df800467-ce59-49fe-f45e-52b66242050a"
      },
      "source": [
        "ex_tree = ensemble.ExtraTreesRegressor()\n",
        "ex_tree.fit(norma, Y_train)\n",
        "\n",
        "preds = ex_tree.predict(X_test_scaled)\n",
        "\n",
        "RMSE(preds, Y_test)"
      ],
      "execution_count": 13,
      "outputs": [
        {
          "output_type": "execute_result",
          "data": {
            "text/plain": [
              "0.01993465844804087"
            ]
          },
          "metadata": {
            "tags": []
          },
          "execution_count": 13
        }
      ]
    },
    {
      "cell_type": "code",
      "metadata": {
        "colab": {
          "base_uri": "https://localhost:8080/"
        },
        "id": "S2gKJEfuuESw",
        "outputId": "b423233e-eeb2-40ae-e169-7c9a052f2ae1"
      },
      "source": [
        "ex_tree = ensemble.RandomForestRegressor()\n",
        "ex_tree.fit(norma, Y_train)\n",
        "\n",
        "preds = ex_tree.predict(X_test_scaled)\n",
        "\n",
        "RMSE(preds, Y_test)"
      ],
      "execution_count": 105,
      "outputs": [
        {
          "output_type": "execute_result",
          "data": {
            "text/plain": [
              "0.0197430009562953"
            ]
          },
          "metadata": {
            "tags": []
          },
          "execution_count": 105
        }
      ]
    },
    {
      "cell_type": "code",
      "metadata": {
        "colab": {
          "base_uri": "https://localhost:8080/"
        },
        "id": "agxsgmaW54-3",
        "outputId": "8589ed94-7b4f-4d5c-a229-539830db879f"
      },
      "source": [
        "from sklearn.ensemble import GradientBoostingRegressor\n",
        "model= GradientBoostingRegressor()\n",
        "model.fit(norma, Y_train)\n",
        "preds = model.predict(X_test_scaled)\n",
        "RMSE(preds, Y_test)"
      ],
      "execution_count": 32,
      "outputs": [
        {
          "output_type": "execute_result",
          "data": {
            "text/plain": [
              "0.026729012391681357"
            ]
          },
          "metadata": {
            "tags": []
          },
          "execution_count": 32
        }
      ]
    },
    {
      "cell_type": "code",
      "metadata": {
        "id": "c5Go4GTAi2_v"
      },
      "source": [
        "from sklearn.preprocessing import StandardScaler\n",
        "scalar = StandardScaler()"
      ],
      "execution_count": 106,
      "outputs": []
    },
    {
      "cell_type": "code",
      "metadata": {
        "id": "X-VvErC_i_MQ"
      },
      "source": [
        "test_sc = pd.DataFrame(scalar.fit_transform(dtest), columns=dtest.columns)\n",
        "prd =  knn.predict(test_sc)\n",
        "subprd = pd.DataFrame(prd, columns=['Redshift']).to_csv('ToSubmit.csv', index_label = 'Id')"
      ],
      "execution_count": null,
      "outputs": []
    },
    {
      "cell_type": "code",
      "metadata": {
        "colab": {
          "base_uri": "https://localhost:8080/",
          "height": 297
        },
        "id": "uir-EfKdjZVh",
        "outputId": "129da3e3-4e97-4a38-a6e3-444773c5a991"
      },
      "source": [
        "dtest = pd.read_csv(\"testX.csv\")\n",
        "dtest.replace(-9999.000000, 18.545691, inplace=True)\n",
        "dtest.describe()"
      ],
      "execution_count": 107,
      "outputs": [
        {
          "output_type": "execute_result",
          "data": {
            "text/html": [
              "<div>\n",
              "<style scoped>\n",
              "    .dataframe tbody tr th:only-of-type {\n",
              "        vertical-align: middle;\n",
              "    }\n",
              "\n",
              "    .dataframe tbody tr th {\n",
              "        vertical-align: top;\n",
              "    }\n",
              "\n",
              "    .dataframe thead th {\n",
              "        text-align: right;\n",
              "    }\n",
              "</style>\n",
              "<table border=\"1\" class=\"dataframe\">\n",
              "  <thead>\n",
              "    <tr style=\"text-align: right;\">\n",
              "      <th></th>\n",
              "      <th>dered_u</th>\n",
              "      <th>dered_g</th>\n",
              "      <th>dered_r</th>\n",
              "      <th>dered_i</th>\n",
              "      <th>dered_z</th>\n",
              "      <th>ra</th>\n",
              "      <th>dec</th>\n",
              "      <th>ID</th>\n",
              "    </tr>\n",
              "  </thead>\n",
              "  <tbody>\n",
              "    <tr>\n",
              "      <th>count</th>\n",
              "      <td>250000.000000</td>\n",
              "      <td>250000.000000</td>\n",
              "      <td>250000.000000</td>\n",
              "      <td>250000.000000</td>\n",
              "      <td>250000.000000</td>\n",
              "      <td>250000.000000</td>\n",
              "      <td>250000.000000</td>\n",
              "      <td>250000.000000</td>\n",
              "    </tr>\n",
              "    <tr>\n",
              "      <th>mean</th>\n",
              "      <td>19.407799</td>\n",
              "      <td>17.763723</td>\n",
              "      <td>16.928125</td>\n",
              "      <td>16.531663</td>\n",
              "      <td>16.248073</td>\n",
              "      <td>184.881031</td>\n",
              "      <td>24.373270</td>\n",
              "      <td>124999.500000</td>\n",
              "    </tr>\n",
              "    <tr>\n",
              "      <th>std</th>\n",
              "      <td>0.988755</td>\n",
              "      <td>0.825710</td>\n",
              "      <td>0.754043</td>\n",
              "      <td>0.752050</td>\n",
              "      <td>0.769482</td>\n",
              "      <td>59.955587</td>\n",
              "      <td>18.686513</td>\n",
              "      <td>72168.927986</td>\n",
              "    </tr>\n",
              "    <tr>\n",
              "      <th>min</th>\n",
              "      <td>13.115050</td>\n",
              "      <td>11.879760</td>\n",
              "      <td>11.014940</td>\n",
              "      <td>10.584090</td>\n",
              "      <td>10.336530</td>\n",
              "      <td>0.004289</td>\n",
              "      <td>-11.252825</td>\n",
              "      <td>0.000000</td>\n",
              "    </tr>\n",
              "    <tr>\n",
              "      <th>25%</th>\n",
              "      <td>18.839950</td>\n",
              "      <td>17.369050</td>\n",
              "      <td>16.599410</td>\n",
              "      <td>16.204670</td>\n",
              "      <td>15.903587</td>\n",
              "      <td>151.295751</td>\n",
              "      <td>9.307271</td>\n",
              "      <td>62499.750000</td>\n",
              "    </tr>\n",
              "    <tr>\n",
              "      <th>50%</th>\n",
              "      <td>19.478290</td>\n",
              "      <td>17.945970</td>\n",
              "      <td>17.149180</td>\n",
              "      <td>16.743670</td>\n",
              "      <td>16.446075</td>\n",
              "      <td>185.958103</td>\n",
              "      <td>22.694393</td>\n",
              "      <td>124999.500000</td>\n",
              "    </tr>\n",
              "    <tr>\n",
              "      <th>75%</th>\n",
              "      <td>20.098837</td>\n",
              "      <td>18.339890</td>\n",
              "      <td>17.477320</td>\n",
              "      <td>17.067160</td>\n",
              "      <td>16.777130</td>\n",
              "      <td>221.791583</td>\n",
              "      <td>38.244590</td>\n",
              "      <td>187499.250000</td>\n",
              "    </tr>\n",
              "    <tr>\n",
              "      <th>max</th>\n",
              "      <td>29.409720</td>\n",
              "      <td>25.213750</td>\n",
              "      <td>18.430950</td>\n",
              "      <td>29.534010</td>\n",
              "      <td>27.901230</td>\n",
              "      <td>359.997379</td>\n",
              "      <td>70.172744</td>\n",
              "      <td>249999.000000</td>\n",
              "    </tr>\n",
              "  </tbody>\n",
              "</table>\n",
              "</div>"
            ],
            "text/plain": [
              "             dered_u        dered_g  ...            dec             ID\n",
              "count  250000.000000  250000.000000  ...  250000.000000  250000.000000\n",
              "mean       19.407799      17.763723  ...      24.373270  124999.500000\n",
              "std         0.988755       0.825710  ...      18.686513   72168.927986\n",
              "min        13.115050      11.879760  ...     -11.252825       0.000000\n",
              "25%        18.839950      17.369050  ...       9.307271   62499.750000\n",
              "50%        19.478290      17.945970  ...      22.694393  124999.500000\n",
              "75%        20.098837      18.339890  ...      38.244590  187499.250000\n",
              "max        29.409720      25.213750  ...      70.172744  249999.000000\n",
              "\n",
              "[8 rows x 8 columns]"
            ]
          },
          "metadata": {
            "tags": []
          },
          "execution_count": 107
        }
      ]
    },
    {
      "cell_type": "code",
      "metadata": {
        "id": "AaukePfDjexB"
      },
      "source": [
        "kula_test = dtest.pop('dec')\n",
        "kuka_test = dtest.pop('ra')\n"
      ],
      "execution_count": 108,
      "outputs": []
    },
    {
      "cell_type": "code",
      "metadata": {
        "id": "G6U0JrJVkcKN"
      },
      "source": [
        "id_test = dtest.pop('ID')"
      ],
      "execution_count": 109,
      "outputs": []
    },
    {
      "cell_type": "code",
      "metadata": {
        "colab": {
          "base_uri": "https://localhost:8080/",
          "height": 204
        },
        "id": "UOCy4dywjq4D",
        "outputId": "8581714a-cf92-4994-b0d6-8a209466f10f"
      },
      "source": [
        "# Creating features (substraction):\n",
        "dtest = dtest.assign(u_g=dtest.dered_u-dtest.dered_g)\n",
        "dtest = dtest.assign(g_r=dtest.dered_g-dtest.dered_r)\n",
        "dtest = dtest.assign(r_i=dtest.dered_r-dtest.dered_i)\n",
        "dtest = dtest.assign(i_z=dtest.dered_i-dtest.dered_z)\n",
        "#features = pd.DataFrame(scalar.fit_transform(df), columns=df.columns)\n",
        "\n",
        "dtest.head()"
      ],
      "execution_count": 110,
      "outputs": [
        {
          "output_type": "execute_result",
          "data": {
            "text/html": [
              "<div>\n",
              "<style scoped>\n",
              "    .dataframe tbody tr th:only-of-type {\n",
              "        vertical-align: middle;\n",
              "    }\n",
              "\n",
              "    .dataframe tbody tr th {\n",
              "        vertical-align: top;\n",
              "    }\n",
              "\n",
              "    .dataframe thead th {\n",
              "        text-align: right;\n",
              "    }\n",
              "</style>\n",
              "<table border=\"1\" class=\"dataframe\">\n",
              "  <thead>\n",
              "    <tr style=\"text-align: right;\">\n",
              "      <th></th>\n",
              "      <th>dered_u</th>\n",
              "      <th>dered_g</th>\n",
              "      <th>dered_r</th>\n",
              "      <th>dered_i</th>\n",
              "      <th>dered_z</th>\n",
              "      <th>u_g</th>\n",
              "      <th>g_r</th>\n",
              "      <th>r_i</th>\n",
              "      <th>i_z</th>\n",
              "    </tr>\n",
              "  </thead>\n",
              "  <tbody>\n",
              "    <tr>\n",
              "      <th>0</th>\n",
              "      <td>18.57944</td>\n",
              "      <td>16.71833</td>\n",
              "      <td>15.88108</td>\n",
              "      <td>15.49288</td>\n",
              "      <td>15.18320</td>\n",
              "      <td>1.86111</td>\n",
              "      <td>0.83725</td>\n",
              "      <td>0.38820</td>\n",
              "      <td>0.30968</td>\n",
              "    </tr>\n",
              "    <tr>\n",
              "      <th>1</th>\n",
              "      <td>19.06882</td>\n",
              "      <td>17.68395</td>\n",
              "      <td>17.20045</td>\n",
              "      <td>16.92310</td>\n",
              "      <td>16.77381</td>\n",
              "      <td>1.38487</td>\n",
              "      <td>0.48350</td>\n",
              "      <td>0.27735</td>\n",
              "      <td>0.14929</td>\n",
              "    </tr>\n",
              "    <tr>\n",
              "      <th>2</th>\n",
              "      <td>18.72212</td>\n",
              "      <td>17.65607</td>\n",
              "      <td>17.32132</td>\n",
              "      <td>17.13485</td>\n",
              "      <td>16.99749</td>\n",
              "      <td>1.06605</td>\n",
              "      <td>0.33475</td>\n",
              "      <td>0.18647</td>\n",
              "      <td>0.13736</td>\n",
              "    </tr>\n",
              "    <tr>\n",
              "      <th>3</th>\n",
              "      <td>19.48814</td>\n",
              "      <td>18.26634</td>\n",
              "      <td>17.63848</td>\n",
              "      <td>17.28905</td>\n",
              "      <td>17.06759</td>\n",
              "      <td>1.22180</td>\n",
              "      <td>0.62786</td>\n",
              "      <td>0.34943</td>\n",
              "      <td>0.22146</td>\n",
              "    </tr>\n",
              "    <tr>\n",
              "      <th>4</th>\n",
              "      <td>20.12428</td>\n",
              "      <td>18.22417</td>\n",
              "      <td>17.23645</td>\n",
              "      <td>16.80466</td>\n",
              "      <td>16.46161</td>\n",
              "      <td>1.90011</td>\n",
              "      <td>0.98772</td>\n",
              "      <td>0.43179</td>\n",
              "      <td>0.34305</td>\n",
              "    </tr>\n",
              "  </tbody>\n",
              "</table>\n",
              "</div>"
            ],
            "text/plain": [
              "    dered_u   dered_g   dered_r   dered_i  ...      u_g      g_r      r_i      i_z\n",
              "0  18.57944  16.71833  15.88108  15.49288  ...  1.86111  0.83725  0.38820  0.30968\n",
              "1  19.06882  17.68395  17.20045  16.92310  ...  1.38487  0.48350  0.27735  0.14929\n",
              "2  18.72212  17.65607  17.32132  17.13485  ...  1.06605  0.33475  0.18647  0.13736\n",
              "3  19.48814  18.26634  17.63848  17.28905  ...  1.22180  0.62786  0.34943  0.22146\n",
              "4  20.12428  18.22417  17.23645  16.80466  ...  1.90011  0.98772  0.43179  0.34305\n",
              "\n",
              "[5 rows x 9 columns]"
            ]
          },
          "metadata": {
            "tags": []
          },
          "execution_count": 110
        }
      ]
    },
    {
      "cell_type": "code",
      "metadata": {
        "id": "6RQDkyZKkRer"
      },
      "source": [
        "test_sc = pd.DataFrame(scalar.fit_transform(dtest), columns=dtest.columns)\n",
        "prd3 =  knn.predict(test_sc)\n",
        "subprd3 = pd.DataFrame(prd3, columns=['Redshift']).to_csv('ToSubmit3.csv', index_label = 'Id')"
      ],
      "execution_count": 81,
      "outputs": []
    },
    {
      "cell_type": "code",
      "metadata": {
        "id": "cCZd5roGqJXH"
      },
      "source": [
        "prd5 =  knn.predict(normalized)\n",
        "subprd5 = pd.DataFrame(prd5, columns=['Redshift']).to_csv('ToSubmit5.csv', index_label = 'Id')"
      ],
      "execution_count": null,
      "outputs": []
    },
    {
      "cell_type": "code",
      "metadata": {
        "id": "ZGOP4bEgl6eO"
      },
      "source": [
        "test_sc = pd.DataFrame(scalar.fit_transform(normalized), columns=normalized.columns)\n",
        "prd_tree =  ex_tree.predict(test_sc)\n",
        "subprd_tree = pd.DataFrame(prd_tree, columns=['Redshift']).to_csv('ToSubmit_forest2.csv', index_label = 'Id')"
      ],
      "execution_count": 115,
      "outputs": []
    },
    {
      "cell_type": "code",
      "metadata": {
        "colab": {
          "base_uri": "https://localhost:8080/"
        },
        "id": "r4Ap1rOBnDf0",
        "outputId": "60762a3f-0916-47fa-f332-4fbff64c9a69"
      },
      "source": [
        "normalized = (dtest - dtest.mean(axis=0)) / dtest.std(axis=0)\n",
        "#X_test_scaled = (X_test - X_train.mean(axis=0)) / X_train.std(axis=0)\n",
        "normalized.mean(0), normalized.std(0)"
      ],
      "execution_count": 114,
      "outputs": [
        {
          "output_type": "execute_result",
          "data": {
            "text/plain": [
              "(dered_u   -1.241279e-17\n",
              " dered_g   -2.233569e-17\n",
              " dered_r   -7.114265e-17\n",
              " dered_i    7.132561e-17\n",
              " dered_z    1.378542e-17\n",
              " u_g        2.267964e-17\n",
              " g_r       -9.670487e-18\n",
              " r_i        1.390732e-17\n",
              " i_z       -1.212364e-19\n",
              " dtype: float64, dered_u    1.0\n",
              " dered_g    1.0\n",
              " dered_r    1.0\n",
              " dered_i    1.0\n",
              " dered_z    1.0\n",
              " u_g        1.0\n",
              " g_r        1.0\n",
              " r_i        1.0\n",
              " i_z        1.0\n",
              " dtype: float64)"
            ]
          },
          "metadata": {
            "tags": []
          },
          "execution_count": 114
        }
      ]
    },
    {
      "cell_type": "code",
      "metadata": {
        "id": "UtuJsPSTrzKM"
      },
      "source": [
        "###################################################################################################"
      ],
      "execution_count": 89,
      "outputs": []
    },
    {
      "cell_type": "code",
      "metadata": {
        "id": "CKczhe4yr4hT"
      },
      "source": [
        "dfu = df.pop('dered_u')\n",
        "dfg = df.pop('dered_g')\n",
        "dfr = df.pop('dered_r')\n",
        "dfi = df.pop('dered_i')\n",
        "dfz = df.pop('dered_z')"
      ],
      "execution_count": 22,
      "outputs": []
    },
    {
      "cell_type": "code",
      "metadata": {
        "id": "woNvdeh3r6qb"
      },
      "source": [
        "#data = df.pop('redshift')\n",
        "X2_train, X2_test, Y2_train, Y2_test = train_test_split(df.values, data.values, test_size=0.20, random_state=42)"
      ],
      "execution_count": 23,
      "outputs": []
    },
    {
      "cell_type": "code",
      "metadata": {
        "colab": {
          "base_uri": "https://localhost:8080/"
        },
        "id": "2L81Vg9Ssg-G",
        "outputId": "97231831-fe98-4dff-f131-7786a780f033"
      },
      "source": [
        "norma2 = (X2_train - X2_train.mean(axis=0)) / X2_train.std(axis=0)\n",
        "X2_test_scaled = (X2_test - X2_train.mean(axis=0)) / X2_train.std(axis=0)\n",
        "norma2.mean(0), norma2.std(0)"
      ],
      "execution_count": 24,
      "outputs": [
        {
          "output_type": "execute_result",
          "data": {
            "text/plain": [
              "(array([-9.49316514e-15, -2.49466736e-16, -1.55354474e-14, -1.46521234e-16]),\n",
              " array([1., 1., 1., 1.]))"
            ]
          },
          "metadata": {
            "tags": []
          },
          "execution_count": 24
        }
      ]
    },
    {
      "cell_type": "code",
      "metadata": {
        "colab": {
          "base_uri": "https://localhost:8080/"
        },
        "id": "22JwHLWtsv_D",
        "outputId": "8c806d24-9a10-407c-e4d0-226993af7f02"
      },
      "source": [
        "knn = KNeighborsRegressor(20)\n",
        "knn.fit(norma2, Y2_train)\n",
        "preds2 = knn.predict(X2_test_scaled)\n",
        "RMSE(preds2, Y2_test)"
      ],
      "execution_count": 95,
      "outputs": [
        {
          "output_type": "execute_result",
          "data": {
            "text/plain": [
              "0.021583856732940974"
            ]
          },
          "metadata": {
            "tags": []
          },
          "execution_count": 95
        }
      ]
    },
    {
      "cell_type": "code",
      "metadata": {
        "colab": {
          "base_uri": "https://localhost:8080/"
        },
        "id": "4p1btI4xs7Yf",
        "outputId": "4d6d1de6-b3bc-4f1b-e875-73ee3ada51eb"
      },
      "source": [
        "ex_tree = ensemble.RandomForestRegressor()\n",
        "ex_tree.fit(norma2, Y2_train)\n",
        "\n",
        "preds2 = ex_tree.predict(X2_test_scaled)\n",
        "\n",
        "RMSE(preds2, Y2_test)"
      ],
      "execution_count": 97,
      "outputs": [
        {
          "output_type": "execute_result",
          "data": {
            "text/plain": [
              "0.02184881562933691"
            ]
          },
          "metadata": {
            "tags": []
          },
          "execution_count": 97
        }
      ]
    }
  ]
}