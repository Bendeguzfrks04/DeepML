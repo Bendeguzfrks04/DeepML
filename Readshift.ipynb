{
  "nbformat": 4,
  "nbformat_minor": 0,
  "metadata": {
    "colab": {
      "name": "Readshift.ipynb",
      "provenance": [],
      "collapsed_sections": [],
      "toc_visible": true,
      "authorship_tag": "ABX9TyNU/zikL3TFSwk0nRXLkJ+0",
      "include_colab_link": true
    },
    "kernelspec": {
      "name": "python3",
      "display_name": "Python 3"
    },
    "language_info": {
      "name": "python"
    }
  },
  "cells": [
    {
      "cell_type": "markdown",
      "metadata": {
        "id": "view-in-github",
        "colab_type": "text"
      },
      "source": [
        "<a href=\"https://colab.research.google.com/github/Bendeguzfrks04/DeepML/blob/main/Readshift.ipynb\" target=\"_parent\"><img src=\"https://colab.research.google.com/assets/colab-badge.svg\" alt=\"Open In Colab\"/></a>"
      ]
    },
    {
      "cell_type": "code",
      "metadata": {
        "colab": {
          "base_uri": "https://localhost:8080/"
        },
        "id": "C_n76DaJKZfg",
        "outputId": "a36b6fe0-e176-418d-e5dc-831b5276060f"
      },
      "source": [
        "import numpy as np\n",
        "import pandas as pd\n",
        "import matplotlib.pyplot as plt\n",
        "import seaborn as sns\n",
        "\n",
        "from sklearn import datasets, cluster\n",
        "from sklearn.ensemble import RandomForestClassifier, RandomForestRegressor\n",
        "from sklearn import neighbors, ensemble, linear_model\n",
        "from sklearn.metrics import roc_auc_score, roc_curve\n",
        "from sklearn.tree import DecisionTreeClassifier, plot_tree\n",
        "from sklearn.model_selection import train_test_split\n",
        "\n",
        "from collections import Counter\n",
        "%pylab inline"
      ],
      "execution_count": 25,
      "outputs": [
        {
          "output_type": "stream",
          "text": [
            "Populating the interactive namespace from numpy and matplotlib\n"
          ],
          "name": "stdout"
        }
      ]
    },
    {
      "cell_type": "code",
      "metadata": {
        "id": "_mz7edhTpyd_"
      },
      "source": [
        "def RMSE(sol, true):\n",
        "    return sqrt( ((sol - true)**2).mean() )"
      ],
      "execution_count": 3,
      "outputs": []
    },
    {
      "cell_type": "code",
      "metadata": {
        "id": "m8vqkelvLK-I"
      },
      "source": [
        "df = pd.read_csv(\"train.csv\")\n",
        "dtest = pd.read_csv(\"testX.csv\")"
      ],
      "execution_count": 4,
      "outputs": []
    },
    {
      "cell_type": "code",
      "metadata": {
        "colab": {
          "base_uri": "https://localhost:8080/",
          "height": 204
        },
        "id": "-jHPdHdhLTar",
        "outputId": "91901ca6-9398-44ef-8ffb-abaebbefae72"
      },
      "source": [
        "\n",
        "dtest.head()"
      ],
      "execution_count": 63,
      "outputs": [
        {
          "output_type": "execute_result",
          "data": {
            "text/html": [
              "<div>\n",
              "<style scoped>\n",
              "    .dataframe tbody tr th:only-of-type {\n",
              "        vertical-align: middle;\n",
              "    }\n",
              "\n",
              "    .dataframe tbody tr th {\n",
              "        vertical-align: top;\n",
              "    }\n",
              "\n",
              "    .dataframe thead th {\n",
              "        text-align: right;\n",
              "    }\n",
              "</style>\n",
              "<table border=\"1\" class=\"dataframe\">\n",
              "  <thead>\n",
              "    <tr style=\"text-align: right;\">\n",
              "      <th></th>\n",
              "      <th>dered_u</th>\n",
              "      <th>dered_g</th>\n",
              "      <th>dered_r</th>\n",
              "      <th>dered_i</th>\n",
              "      <th>dered_z</th>\n",
              "      <th>ra</th>\n",
              "      <th>dec</th>\n",
              "      <th>ID</th>\n",
              "    </tr>\n",
              "  </thead>\n",
              "  <tbody>\n",
              "    <tr>\n",
              "      <th>0</th>\n",
              "      <td>18.57944</td>\n",
              "      <td>16.71833</td>\n",
              "      <td>15.88108</td>\n",
              "      <td>15.49288</td>\n",
              "      <td>15.18320</td>\n",
              "      <td>13.970513</td>\n",
              "      <td>-9.813933</td>\n",
              "      <td>0</td>\n",
              "    </tr>\n",
              "    <tr>\n",
              "      <th>1</th>\n",
              "      <td>19.06882</td>\n",
              "      <td>17.68395</td>\n",
              "      <td>17.20045</td>\n",
              "      <td>16.92310</td>\n",
              "      <td>16.77381</td>\n",
              "      <td>117.641289</td>\n",
              "      <td>20.548117</td>\n",
              "      <td>1</td>\n",
              "    </tr>\n",
              "    <tr>\n",
              "      <th>2</th>\n",
              "      <td>18.72212</td>\n",
              "      <td>17.65607</td>\n",
              "      <td>17.32132</td>\n",
              "      <td>17.13485</td>\n",
              "      <td>16.99749</td>\n",
              "      <td>246.700110</td>\n",
              "      <td>20.644097</td>\n",
              "      <td>2</td>\n",
              "    </tr>\n",
              "    <tr>\n",
              "      <th>3</th>\n",
              "      <td>19.48814</td>\n",
              "      <td>18.26634</td>\n",
              "      <td>17.63848</td>\n",
              "      <td>17.28905</td>\n",
              "      <td>17.06759</td>\n",
              "      <td>210.136692</td>\n",
              "      <td>50.270590</td>\n",
              "      <td>3</td>\n",
              "    </tr>\n",
              "    <tr>\n",
              "      <th>4</th>\n",
              "      <td>20.12428</td>\n",
              "      <td>18.22417</td>\n",
              "      <td>17.23645</td>\n",
              "      <td>16.80466</td>\n",
              "      <td>16.46161</td>\n",
              "      <td>180.986323</td>\n",
              "      <td>-3.104493</td>\n",
              "      <td>4</td>\n",
              "    </tr>\n",
              "  </tbody>\n",
              "</table>\n",
              "</div>"
            ],
            "text/plain": [
              "    dered_u   dered_g   dered_r   dered_i   dered_z          ra        dec  ID\n",
              "0  18.57944  16.71833  15.88108  15.49288  15.18320   13.970513  -9.813933   0\n",
              "1  19.06882  17.68395  17.20045  16.92310  16.77381  117.641289  20.548117   1\n",
              "2  18.72212  17.65607  17.32132  17.13485  16.99749  246.700110  20.644097   2\n",
              "3  19.48814  18.26634  17.63848  17.28905  17.06759  210.136692  50.270590   3\n",
              "4  20.12428  18.22417  17.23645  16.80466  16.46161  180.986323  -3.104493   4"
            ]
          },
          "metadata": {
            "tags": []
          },
          "execution_count": 63
        }
      ]
    },
    {
      "cell_type": "code",
      "metadata": {
        "colab": {
          "base_uri": "https://localhost:8080/",
          "height": 204
        },
        "id": "TJMKdugULiUi",
        "outputId": "f76c6c70-265f-4d08-e8be-f5282b20850f"
      },
      "source": [
        "df.head()"
      ],
      "execution_count": 64,
      "outputs": [
        {
          "output_type": "execute_result",
          "data": {
            "text/html": [
              "<div>\n",
              "<style scoped>\n",
              "    .dataframe tbody tr th:only-of-type {\n",
              "        vertical-align: middle;\n",
              "    }\n",
              "\n",
              "    .dataframe tbody tr th {\n",
              "        vertical-align: top;\n",
              "    }\n",
              "\n",
              "    .dataframe thead th {\n",
              "        text-align: right;\n",
              "    }\n",
              "</style>\n",
              "<table border=\"1\" class=\"dataframe\">\n",
              "  <thead>\n",
              "    <tr style=\"text-align: right;\">\n",
              "      <th></th>\n",
              "      <th>dered_u</th>\n",
              "      <th>dered_g</th>\n",
              "      <th>dered_r</th>\n",
              "      <th>dered_i</th>\n",
              "      <th>dered_z</th>\n",
              "      <th>ra</th>\n",
              "      <th>dec</th>\n",
              "    </tr>\n",
              "  </thead>\n",
              "  <tbody>\n",
              "    <tr>\n",
              "      <th>0</th>\n",
              "      <td>19.18902</td>\n",
              "      <td>17.12673</td>\n",
              "      <td>16.17146</td>\n",
              "      <td>15.72892</td>\n",
              "      <td>15.38018</td>\n",
              "      <td>221.626406</td>\n",
              "      <td>1.104141</td>\n",
              "    </tr>\n",
              "    <tr>\n",
              "      <th>1</th>\n",
              "      <td>19.71668</td>\n",
              "      <td>17.91488</td>\n",
              "      <td>17.06592</td>\n",
              "      <td>16.67560</td>\n",
              "      <td>16.41773</td>\n",
              "      <td>177.530289</td>\n",
              "      <td>43.921268</td>\n",
              "    </tr>\n",
              "    <tr>\n",
              "      <th>2</th>\n",
              "      <td>19.73791</td>\n",
              "      <td>18.18637</td>\n",
              "      <td>17.31132</td>\n",
              "      <td>16.86139</td>\n",
              "      <td>16.57027</td>\n",
              "      <td>244.887682</td>\n",
              "      <td>35.063165</td>\n",
              "    </tr>\n",
              "    <tr>\n",
              "      <th>3</th>\n",
              "      <td>19.29196</td>\n",
              "      <td>17.68699</td>\n",
              "      <td>16.91789</td>\n",
              "      <td>16.54745</td>\n",
              "      <td>16.24734</td>\n",
              "      <td>176.583097</td>\n",
              "      <td>11.647798</td>\n",
              "    </tr>\n",
              "    <tr>\n",
              "      <th>4</th>\n",
              "      <td>19.99879</td>\n",
              "      <td>18.26889</td>\n",
              "      <td>17.44174</td>\n",
              "      <td>17.05618</td>\n",
              "      <td>16.75268</td>\n",
              "      <td>168.444269</td>\n",
              "      <td>41.977939</td>\n",
              "    </tr>\n",
              "  </tbody>\n",
              "</table>\n",
              "</div>"
            ],
            "text/plain": [
              "    dered_u   dered_g   dered_r   dered_i   dered_z          ra        dec\n",
              "0  19.18902  17.12673  16.17146  15.72892  15.38018  221.626406   1.104141\n",
              "1  19.71668  17.91488  17.06592  16.67560  16.41773  177.530289  43.921268\n",
              "2  19.73791  18.18637  17.31132  16.86139  16.57027  244.887682  35.063165\n",
              "3  19.29196  17.68699  16.91789  16.54745  16.24734  176.583097  11.647798\n",
              "4  19.99879  18.26889  17.44174  17.05618  16.75268  168.444269  41.977939"
            ]
          },
          "metadata": {
            "tags": []
          },
          "execution_count": 64
        }
      ]
    },
    {
      "cell_type": "code",
      "metadata": {
        "colab": {
          "base_uri": "https://localhost:8080/"
        },
        "id": "h4O6NuOgYP-m",
        "outputId": "101e05a5-d84a-473b-cdf3-bd711f0e52ce"
      },
      "source": [
        "df.shape, df.isna().sum()"
      ],
      "execution_count": 47,
      "outputs": [
        {
          "output_type": "execute_result",
          "data": {
            "text/plain": [
              "((250000, 8), dered_u     0\n",
              " dered_g     0\n",
              " dered_r     0\n",
              " dered_i     0\n",
              " dered_z     0\n",
              " ra          0\n",
              " dec         0\n",
              " redshift    0\n",
              " dtype: int64)"
            ]
          },
          "metadata": {
            "tags": []
          },
          "execution_count": 47
        }
      ]
    },
    {
      "cell_type": "code",
      "metadata": {
        "colab": {
          "base_uri": "https://localhost:8080/",
          "height": 265
        },
        "id": "XQNA1YoNYvcQ",
        "outputId": "9a4fcc04-be70-4fac-ee7e-72659f877d56"
      },
      "source": [
        "df.dered_u.hist()\n",
        "plt.yscale('log')"
      ],
      "execution_count": 48,
      "outputs": [
        {
          "output_type": "display_data",
          "data": {
            "image/png": "[encoded data removed]",
            "text/plain": [
              "<Figure size 432x288 with 1 Axes>"
            ]
          },
          "metadata": {
            "tags": [],
            "needs_background": "light"
          }
        }
      ]
    },
    {
      "cell_type": "code",
      "metadata": {
        "colab": {
          "base_uri": "https://localhost:8080/",
          "height": 297
        },
        "id": "8TB3m9BfawCE",
        "outputId": "bae101e7-56ea-454a-b48c-54fd51614247"
      },
      "source": [
        "df = df[df.dered_u > -2000]\n",
        "df.describe()"
      ],
      "execution_count": 5,
      "outputs": [
        {
          "output_type": "execute_result",
          "data": {
            "text/html": [
              "<div>\n",
              "<style scoped>\n",
              "    .dataframe tbody tr th:only-of-type {\n",
              "        vertical-align: middle;\n",
              "    }\n",
              "\n",
              "    .dataframe tbody tr th {\n",
              "        vertical-align: top;\n",
              "    }\n",
              "\n",
              "    .dataframe thead th {\n",
              "        text-align: right;\n",
              "    }\n",
              "</style>\n",
              "<table border=\"1\" class=\"dataframe\">\n",
              "  <thead>\n",
              "    <tr style=\"text-align: right;\">\n",
              "      <th></th>\n",
              "      <th>dered_u</th>\n",
              "      <th>dered_g</th>\n",
              "      <th>dered_r</th>\n",
              "      <th>dered_i</th>\n",
              "      <th>dered_z</th>\n",
              "      <th>ra</th>\n",
              "      <th>dec</th>\n",
              "      <th>redshift</th>\n",
              "    </tr>\n",
              "  </thead>\n",
              "  <tbody>\n",
              "    <tr>\n",
              "      <th>count</th>\n",
              "      <td>249997.000000</td>\n",
              "      <td>249997.000000</td>\n",
              "      <td>249997.000000</td>\n",
              "      <td>249997.000000</td>\n",
              "      <td>249997.000000</td>\n",
              "      <td>249997.000000</td>\n",
              "      <td>249997.000000</td>\n",
              "      <td>249997.000000</td>\n",
              "    </tr>\n",
              "    <tr>\n",
              "      <th>mean</th>\n",
              "      <td>19.407247</td>\n",
              "      <td>17.762655</td>\n",
              "      <td>16.927524</td>\n",
              "      <td>16.530976</td>\n",
              "      <td>16.247397</td>\n",
              "      <td>184.730362</td>\n",
              "      <td>24.308970</td>\n",
              "      <td>0.107049</td>\n",
              "    </tr>\n",
              "    <tr>\n",
              "      <th>std</th>\n",
              "      <td>0.986641</td>\n",
              "      <td>0.821859</td>\n",
              "      <td>0.750838</td>\n",
              "      <td>0.748183</td>\n",
              "      <td>0.765521</td>\n",
              "      <td>60.202119</td>\n",
              "      <td>18.673098</td>\n",
              "      <td>0.051698</td>\n",
              "    </tr>\n",
              "    <tr>\n",
              "      <th>min</th>\n",
              "      <td>13.595700</td>\n",
              "      <td>11.820110</td>\n",
              "      <td>11.050980</td>\n",
              "      <td>10.665400</td>\n",
              "      <td>10.419470</td>\n",
              "      <td>0.006459</td>\n",
              "      <td>-11.244081</td>\n",
              "      <td>0.000024</td>\n",
              "    </tr>\n",
              "    <tr>\n",
              "      <th>25%</th>\n",
              "      <td>18.837330</td>\n",
              "      <td>17.369710</td>\n",
              "      <td>16.598140</td>\n",
              "      <td>16.203610</td>\n",
              "      <td>15.904070</td>\n",
              "      <td>150.977786</td>\n",
              "      <td>9.281423</td>\n",
              "      <td>0.069596</td>\n",
              "    </tr>\n",
              "    <tr>\n",
              "      <th>50%</th>\n",
              "      <td>19.476430</td>\n",
              "      <td>17.942600</td>\n",
              "      <td>17.146300</td>\n",
              "      <td>16.742100</td>\n",
              "      <td>16.442920</td>\n",
              "      <td>185.848968</td>\n",
              "      <td>22.591997</td>\n",
              "      <td>0.101094</td>\n",
              "    </tr>\n",
              "    <tr>\n",
              "      <th>75%</th>\n",
              "      <td>20.094800</td>\n",
              "      <td>18.335390</td>\n",
              "      <td>17.474220</td>\n",
              "      <td>17.064700</td>\n",
              "      <td>16.775990</td>\n",
              "      <td>221.650490</td>\n",
              "      <td>38.153846</td>\n",
              "      <td>0.138922</td>\n",
              "    </tr>\n",
              "    <tr>\n",
              "      <th>max</th>\n",
              "      <td>30.066060</td>\n",
              "      <td>25.775880</td>\n",
              "      <td>18.670300</td>\n",
              "      <td>24.333480</td>\n",
              "      <td>26.726530</td>\n",
              "      <td>359.994924</td>\n",
              "      <td>70.268882</td>\n",
              "      <td>0.693718</td>\n",
              "    </tr>\n",
              "  </tbody>\n",
              "</table>\n",
              "</div>"
            ],
            "text/plain": [
              "             dered_u        dered_g  ...            dec       redshift\n",
              "count  249997.000000  249997.000000  ...  249997.000000  249997.000000\n",
              "mean       19.407247      17.762655  ...      24.308970       0.107049\n",
              "std         0.986641       0.821859  ...      18.673098       0.051698\n",
              "min        13.595700      11.820110  ...     -11.244081       0.000024\n",
              "25%        18.837330      17.369710  ...       9.281423       0.069596\n",
              "50%        19.476430      17.942600  ...      22.591997       0.101094\n",
              "75%        20.094800      18.335390  ...      38.153846       0.138922\n",
              "max        30.066060      25.775880  ...      70.268882       0.693718\n",
              "\n",
              "[8 rows x 8 columns]"
            ]
          },
          "metadata": {
            "tags": []
          },
          "execution_count": 5
        }
      ]
    },
    {
      "cell_type": "code",
      "metadata": {
        "id": "ghQj56wvn3ND"
      },
      "source": [
        "data = df.pop('redshift')\n",
        "X_train, X_test, Y_train, Y_test = train_test_split(df.values, data.values, test_size=0.20, random_state=42)"
      ],
      "execution_count": 6,
      "outputs": []
    },
    {
      "cell_type": "code",
      "metadata": {
        "colab": {
          "base_uri": "https://localhost:8080/"
        },
        "id": "Wu0ax4s9oX-G",
        "outputId": "f4781bd1-d718-45cd-d889-579b936b692f"
      },
      "source": [
        "data"
      ],
      "execution_count": 51,
      "outputs": [
        {
          "output_type": "execute_result",
          "data": {
            "text/plain": [
              "0         0.073469\n",
              "1         0.067499\n",
              "2         0.121360\n",
              "3         0.083287\n",
              "4         0.098327\n",
              "            ...   \n",
              "249995    0.101716\n",
              "249996    0.063706\n",
              "249997    0.157300\n",
              "249998    0.032358\n",
              "249999    0.139342\n",
              "Name: redshift, Length: 249997, dtype: float64"
            ]
          },
          "metadata": {
            "tags": []
          },
          "execution_count": 51
        }
      ]
    },
    {
      "cell_type": "code",
      "metadata": {
        "colab": {
          "base_uri": "https://localhost:8080/",
          "height": 204
        },
        "id": "PAn026yZoZM1",
        "outputId": "adfd7cca-0a03-43cc-df1b-35b5a2ff2515"
      },
      "source": [
        "df.head()"
      ],
      "execution_count": 52,
      "outputs": [
        {
          "output_type": "execute_result",
          "data": {
            "text/html": [
              "<div>\n",
              "<style scoped>\n",
              "    .dataframe tbody tr th:only-of-type {\n",
              "        vertical-align: middle;\n",
              "    }\n",
              "\n",
              "    .dataframe tbody tr th {\n",
              "        vertical-align: top;\n",
              "    }\n",
              "\n",
              "    .dataframe thead th {\n",
              "        text-align: right;\n",
              "    }\n",
              "</style>\n",
              "<table border=\"1\" class=\"dataframe\">\n",
              "  <thead>\n",
              "    <tr style=\"text-align: right;\">\n",
              "      <th></th>\n",
              "      <th>dered_u</th>\n",
              "      <th>dered_g</th>\n",
              "      <th>dered_r</th>\n",
              "      <th>dered_i</th>\n",
              "      <th>dered_z</th>\n",
              "      <th>ra</th>\n",
              "      <th>dec</th>\n",
              "    </tr>\n",
              "  </thead>\n",
              "  <tbody>\n",
              "    <tr>\n",
              "      <th>0</th>\n",
              "      <td>19.18902</td>\n",
              "      <td>17.12673</td>\n",
              "      <td>16.17146</td>\n",
              "      <td>15.72892</td>\n",
              "      <td>15.38018</td>\n",
              "      <td>221.626406</td>\n",
              "      <td>1.104141</td>\n",
              "    </tr>\n",
              "    <tr>\n",
              "      <th>1</th>\n",
              "      <td>19.71668</td>\n",
              "      <td>17.91488</td>\n",
              "      <td>17.06592</td>\n",
              "      <td>16.67560</td>\n",
              "      <td>16.41773</td>\n",
              "      <td>177.530289</td>\n",
              "      <td>43.921268</td>\n",
              "    </tr>\n",
              "    <tr>\n",
              "      <th>2</th>\n",
              "      <td>19.73791</td>\n",
              "      <td>18.18637</td>\n",
              "      <td>17.31132</td>\n",
              "      <td>16.86139</td>\n",
              "      <td>16.57027</td>\n",
              "      <td>244.887682</td>\n",
              "      <td>35.063165</td>\n",
              "    </tr>\n",
              "    <tr>\n",
              "      <th>3</th>\n",
              "      <td>19.29196</td>\n",
              "      <td>17.68699</td>\n",
              "      <td>16.91789</td>\n",
              "      <td>16.54745</td>\n",
              "      <td>16.24734</td>\n",
              "      <td>176.583097</td>\n",
              "      <td>11.647798</td>\n",
              "    </tr>\n",
              "    <tr>\n",
              "      <th>4</th>\n",
              "      <td>19.99879</td>\n",
              "      <td>18.26889</td>\n",
              "      <td>17.44174</td>\n",
              "      <td>17.05618</td>\n",
              "      <td>16.75268</td>\n",
              "      <td>168.444269</td>\n",
              "      <td>41.977939</td>\n",
              "    </tr>\n",
              "  </tbody>\n",
              "</table>\n",
              "</div>"
            ],
            "text/plain": [
              "    dered_u   dered_g   dered_r   dered_i   dered_z          ra        dec\n",
              "0  19.18902  17.12673  16.17146  15.72892  15.38018  221.626406   1.104141\n",
              "1  19.71668  17.91488  17.06592  16.67560  16.41773  177.530289  43.921268\n",
              "2  19.73791  18.18637  17.31132  16.86139  16.57027  244.887682  35.063165\n",
              "3  19.29196  17.68699  16.91789  16.54745  16.24734  176.583097  11.647798\n",
              "4  19.99879  18.26889  17.44174  17.05618  16.75268  168.444269  41.977939"
            ]
          },
          "metadata": {
            "tags": []
          },
          "execution_count": 52
        }
      ]
    },
    {
      "cell_type": "code",
      "metadata": {
        "colab": {
          "base_uri": "https://localhost:8080/",
          "height": 317
        },
        "id": "DaAUsAqwodnO",
        "outputId": "31c428f6-10d5-4213-ded9-250f695c31b4"
      },
      "source": [
        "sns.heatmap(df.corr(), annot=True , linewidths=.5, fmt= '.1f')"
      ],
      "execution_count": 53,
      "outputs": [
        {
          "output_type": "execute_result",
          "data": {
            "text/plain": [
              "<matplotlib.axes._subplots.AxesSubplot at 0x7f7eb95c3550>"
            ]
          },
          "metadata": {
            "tags": []
          },
          "execution_count": 53
        },
        {
          "output_type": "display_data",
          "data": {
            "image/png": "[encoded data removed]",
            "text/plain": [
              "<Figure size 432x288 with 2 Axes>"
            ]
          },
          "metadata": {
            "tags": [],
            "needs_background": "light"
          }
        }
      ]
    },
    {
      "cell_type": "code",
      "metadata": {
        "id": "ujSZFhCcs3KC"
      },
      "source": [
        "from sklearn.neighbors import KNeighborsRegressor"
      ],
      "execution_count": 16,
      "outputs": []
    },
    {
      "cell_type": "code",
      "metadata": {
        "id": "smokbek4qmAQ"
      },
      "source": [
        "#Models\n",
        "kmeans = cluster.KMeans(n_clusters=2, random_state=42)\n",
        "rf     = ensemble.RandomForestClassifier(random_state=42)\n",
        "dt     = DecisionTreeClassifier()\n",
        "lr     = linear_model.LogisticRegression()"
      ],
      "execution_count": 27,
      "outputs": []
    },
    {
      "cell_type": "code",
      "metadata": {
        "colab": {
          "base_uri": "https://localhost:8080/"
        },
        "id": "j9ceXt42sWy5",
        "outputId": "7dec8694-6de4-4885-c922-27a059496d44"
      },
      "source": [
        "knn = KNeighborsRegressor(10)\n",
        "knn.fit(X_train, Y_train)\n",
        "preds = knn.predict(X_test)\n",
        "RMSE(preds, Y_test)\n"
      ],
      "execution_count": 31,
      "outputs": [
        {
          "output_type": "execute_result",
          "data": {
            "text/plain": [
              "0.036662540772142635"
            ]
          },
          "metadata": {
            "tags": []
          },
          "execution_count": 31
        }
      ]
    },
    {
      "cell_type": "code",
      "metadata": {
        "id": "6-dhdpxUNQVg"
      },
      "source": [
        "from sklearn.preprocessing import MinMaxScaler"
      ],
      "execution_count": 59,
      "outputs": []
    },
    {
      "cell_type": "code",
      "metadata": {
        "colab": {
          "base_uri": "https://localhost:8080/"
        },
        "id": "5iQFJ8I88Px9",
        "outputId": "f3bdcde1-e943-4c1b-8221-b69f60939ba0"
      },
      "source": [
        "norma = (X_train - X_train.mean(axis=0)) / X_train.std(axis=0)\n",
        "X_test_scaled = (X_test - X_train.mean(axis=0)) / X_train.std(axis=0)\n",
        "norma.mean(0), norma.std(0)"
      ],
      "execution_count": 81,
      "outputs": [
        {
          "output_type": "execute_result",
          "data": {
            "text/plain": [
              "(array([-2.23417651e-13,  2.16895563e-13,  1.13229587e-13, -3.05770692e-13,\n",
              "         4.26977418e-13,  3.81594773e-14, -9.06342551e-15]),\n",
              " array([1., 1., 1., 1., 1., 1., 1.]))"
            ]
          },
          "metadata": {
            "tags": []
          },
          "execution_count": 81
        }
      ]
    },
    {
      "cell_type": "code",
      "metadata": {
        "colab": {
          "base_uri": "https://localhost:8080/"
        },
        "id": "6UPmKFGR8OZv",
        "outputId": "380cb101-4aaa-4f24-b418-851e5e6e1562"
      },
      "source": [
        "knn = KNeighborsRegressor(20)\n",
        "knn.fit(norma, Y_train)\n",
        "preds = knn.predict(X_test_scaled)\n",
        "\n",
        "RMSE(preds, Y_test)"
      ],
      "execution_count": 82,
      "outputs": [
        {
          "output_type": "execute_result",
          "data": {
            "text/plain": [
              "0.02725192292490721"
            ]
          },
          "metadata": {
            "tags": []
          },
          "execution_count": 82
        }
      ]
    },
    {
      "cell_type": "code",
      "metadata": {
        "colab": {
          "base_uri": "https://localhost:8080/"
        },
        "id": "tErN2A9xzkez",
        "outputId": "a14ecff6-f61e-4670-d24d-b18b9a84bb4c"
      },
      "source": [
        "knn.fit(norma[:,0:5], Y_train)  #fit only on the magnitudes\n",
        "preds = preds = knn.predict(X_test_scaled[:,0:5]) #predict only on the magnitudes\n",
        "\n",
        "RMSE(preds, Y_test)"
      ],
      "execution_count": 110,
      "outputs": [
        {
          "output_type": "execute_result",
          "data": {
            "text/plain": [
              "0.021652984263188124"
            ]
          },
          "metadata": {
            "tags": []
          },
          "execution_count": 110
        }
      ]
    },
    {
      "cell_type": "code",
      "metadata": {
        "colab": {
          "base_uri": "https://localhost:8080/"
        },
        "id": "haF6Tchqqfzn",
        "outputId": "c412c6cc-479c-4641-f65a-9acaef08072f"
      },
      "source": [
        ""
      ],
      "execution_count": 266,
      "outputs": [
        {
          "output_type": "execute_result",
          "data": {
            "text/plain": [
              "array([[-1.12697162, -1.278695  , -1.29104949, ..., -1.28786543,\n",
              "        -0.01006568,  0.36682754],\n",
              "       [-0.80259695, -0.95454023, -0.94647426, ..., -0.93707146,\n",
              "        -0.90122697,  0.15314046],\n",
              "       [-0.28598595, -0.39207935, -0.30647647, ..., -0.21573152,\n",
              "         0.63640911, -0.86853274],\n",
              "       ...,\n",
              "       [-0.13677096,  0.32221797,  0.67992245, ...,  0.79679368,\n",
              "         0.68511148,  0.56832714],\n",
              "       [ 0.05352736, -0.03363383,  0.021679  , ..., -0.01971381,\n",
              "        -0.36309216,  0.59388419],\n",
              "       [-1.30903096, -1.37460194, -1.34370737, ..., -1.30696426,\n",
              "        -0.9280648 , -0.78904984]])"
            ]
          },
          "metadata": {
            "tags": []
          },
          "execution_count": 266
        }
      ]
    },
    {
      "cell_type": "code",
      "metadata": {
        "id": "wI6vevt8ukc2"
      },
      "source": [
        "X_train_scaled_extrafeatures = numpy.zeros((199997, 4))\n",
        "\n",
        "for i in range(199997):\n",
        "  X_train_scaled_extrafeatures[i][0] = (norma[:,1:2] - norma[:,0:1])[i]\n",
        "  X_train_scaled_extrafeatures[i][1] = (norma[:,2:3] - norma[:,1:2])[i]\n",
        "  X_train_scaled_extrafeatures[i][2] = (norma[:,3:4] - norma[:,2:3])[i]\n",
        "  X_train_scaled_extrafeatures[i][3] = (norma[:,4:5] - norma[:,3:4])[i]\n",
        "#X_train_scaled_extrafeatures = [new1, new2, new3, new4]"
      ],
      "execution_count": 294,
      "outputs": []
    },
    {
      "cell_type": "code",
      "metadata": {
        "colab": {
          "base_uri": "https://localhost:8080/",
          "height": 198
        },
        "id": "1E8EqECULwUv",
        "outputId": "338b6fa7-6660-4d13-99b3-9827ca96f65d"
      },
      "source": [
        "w= []\n",
        "for i in range(1,1998):\n",
        "  w[i] = i"
      ],
      "execution_count": 293,
      "outputs": [
        {
          "output_type": "error",
          "ename": "IndexError",
          "evalue": "ignored",
          "traceback": [
            "\u001b[0;31m---------------------------------------------------------------------------\u001b[0m",
            "\u001b[0;31mIndexError\u001b[0m                                Traceback (most recent call last)",
            "\u001b[0;32m<ipython-input-293-7ff1227743ab>\u001b[0m in \u001b[0;36m<module>\u001b[0;34m()\u001b[0m\n\u001b[1;32m      1\u001b[0m \u001b[0mw\u001b[0m\u001b[0;34m=\u001b[0m \u001b[0;34m[\u001b[0m\u001b[0;34m]\u001b[0m\u001b[0;34m\u001b[0m\u001b[0;34m\u001b[0m\u001b[0m\n\u001b[1;32m      2\u001b[0m \u001b[0;32mfor\u001b[0m \u001b[0mi\u001b[0m \u001b[0;32min\u001b[0m \u001b[0mrange\u001b[0m\u001b[0;34m(\u001b[0m\u001b[0;36m1\u001b[0m\u001b[0;34m,\u001b[0m\u001b[0;36m1998\u001b[0m\u001b[0;34m)\u001b[0m\u001b[0;34m:\u001b[0m\u001b[0;34m\u001b[0m\u001b[0;34m\u001b[0m\u001b[0m\n\u001b[0;32m----> 3\u001b[0;31m   \u001b[0mw\u001b[0m\u001b[0;34m[\u001b[0m\u001b[0mi\u001b[0m\u001b[0;34m]\u001b[0m \u001b[0;34m=\u001b[0m\u001b[0mi\u001b[0m\u001b[0;34m\u001b[0m\u001b[0;34m\u001b[0m\u001b[0m\n\u001b[0m",
            "\u001b[0;31mIndexError\u001b[0m: list assignment index out of range"
          ]
        }
      ]
    },
    {
      "cell_type": "code",
      "metadata": {
        "colab": {
          "base_uri": "https://localhost:8080/"
        },
        "id": "yKTqkY1KefJo",
        "outputId": "126b74d7-324e-4eac-c023-c154a2dd83d8"
      },
      "source": [
        "w"
      ],
      "execution_count": 292,
      "outputs": [
        {
          "output_type": "execute_result",
          "data": {
            "text/plain": [
              "1995003"
            ]
          },
          "metadata": {
            "tags": []
          },
          "execution_count": 292
        }
      ]
    },
    {
      "cell_type": "code",
      "metadata": {
        "id": "9HQq6yeU0X3J"
      },
      "source": [
        "ne4 = X_test_scaled[:,4:5] - X_test_scaled[:,3:4]\n",
        "ne3 = X_test_scaled[:,3:4] - X_test_scaled[:,2:3]\n",
        "ne2 = X_test_scaled[:,2:3] - X_test_scaled[:,1:2]\n",
        "ne1 = X_test_scaled[:,1:2] - X_test_scaled[:,0:1]\n",
        "X_test_scaled_extrafeatures = [ne1.T, ne2.T, ne3.T, ne4.T]"
      ],
      "execution_count": 191,
      "outputs": []
    },
    {
      "cell_type": "code",
      "metadata": {
        "colab": {
          "base_uri": "https://localhost:8080/",
          "height": 232
        },
        "id": "NukNHrGn36OU",
        "outputId": "5510226c-5f37-4766-d445-b16442811155"
      },
      "source": [
        "xtrain = []\n",
        "for i in enumerate():\n",
        "  xtrain[i][0] += new1[i][0],new2[i][0], new3[i][0], new4[i][0]\n",
        "  xtrain[i][1] += new1[1],new2[1], new3[1], new4[1]\n",
        "  xtrain[i][2] += new1[2],new2[2], new3[2], new4[2]\n",
        "  xtrain[i][3] += new1[3],new2[3], new3[3], new4[3]\n",
        "shape(xtrain)"
      ],
      "execution_count": 255,
      "outputs": [
        {
          "output_type": "error",
          "ename": "IndexError",
          "evalue": "ignored",
          "traceback": [
            "\u001b[0;31m---------------------------------------------------------------------------\u001b[0m",
            "\u001b[0;31mIndexError\u001b[0m                                Traceback (most recent call last)",
            "\u001b[0;32m<ipython-input-255-e53e0c9f2f9d>\u001b[0m in \u001b[0;36m<module>\u001b[0;34m()\u001b[0m\n\u001b[1;32m      1\u001b[0m \u001b[0mxtrain\u001b[0m \u001b[0;34m=\u001b[0m \u001b[0;34m[\u001b[0m\u001b[0;34m]\u001b[0m\u001b[0;34m\u001b[0m\u001b[0;34m\u001b[0m\u001b[0m\n\u001b[1;32m      2\u001b[0m \u001b[0;32mfor\u001b[0m \u001b[0mi\u001b[0m \u001b[0;32min\u001b[0m \u001b[0mrange\u001b[0m\u001b[0;34m(\u001b[0m\u001b[0;36m1\u001b[0m\u001b[0;34m,\u001b[0m\u001b[0;36m50000\u001b[0m\u001b[0;34m,\u001b[0m\u001b[0;36m4\u001b[0m\u001b[0;34m)\u001b[0m\u001b[0;34m:\u001b[0m\u001b[0;34m\u001b[0m\u001b[0;34m\u001b[0m\u001b[0m\n\u001b[0;32m----> 3\u001b[0;31m   \u001b[0mxtrain\u001b[0m\u001b[0;34m[\u001b[0m\u001b[0mi\u001b[0m\u001b[0;34m]\u001b[0m\u001b[0;34m[\u001b[0m\u001b[0;36m0\u001b[0m\u001b[0;34m]\u001b[0m \u001b[0;34m+=\u001b[0m \u001b[0mnew1\u001b[0m\u001b[0;34m[\u001b[0m\u001b[0mi\u001b[0m\u001b[0;34m]\u001b[0m\u001b[0;34m[\u001b[0m\u001b[0;36m0\u001b[0m\u001b[0;34m]\u001b[0m\u001b[0;34m,\u001b[0m\u001b[0mnew2\u001b[0m\u001b[0;34m[\u001b[0m\u001b[0mi\u001b[0m\u001b[0;34m]\u001b[0m\u001b[0;34m[\u001b[0m\u001b[0;36m0\u001b[0m\u001b[0;34m]\u001b[0m\u001b[0;34m,\u001b[0m \u001b[0mnew3\u001b[0m\u001b[0;34m[\u001b[0m\u001b[0mi\u001b[0m\u001b[0;34m]\u001b[0m\u001b[0;34m[\u001b[0m\u001b[0;36m0\u001b[0m\u001b[0;34m]\u001b[0m\u001b[0;34m,\u001b[0m \u001b[0mnew4\u001b[0m\u001b[0;34m[\u001b[0m\u001b[0mi\u001b[0m\u001b[0;34m]\u001b[0m\u001b[0;34m[\u001b[0m\u001b[0;36m0\u001b[0m\u001b[0;34m]\u001b[0m\u001b[0;34m\u001b[0m\u001b[0;34m\u001b[0m\u001b[0m\n\u001b[0m\u001b[1;32m      4\u001b[0m   \u001b[0mxtrain\u001b[0m\u001b[0;34m[\u001b[0m\u001b[0mi\u001b[0m\u001b[0;34m]\u001b[0m\u001b[0;34m[\u001b[0m\u001b[0;36m1\u001b[0m\u001b[0;34m]\u001b[0m \u001b[0;34m+=\u001b[0m \u001b[0mnew1\u001b[0m\u001b[0;34m[\u001b[0m\u001b[0;36m1\u001b[0m\u001b[0;34m]\u001b[0m\u001b[0;34m,\u001b[0m\u001b[0mnew2\u001b[0m\u001b[0;34m[\u001b[0m\u001b[0;36m1\u001b[0m\u001b[0;34m]\u001b[0m\u001b[0;34m,\u001b[0m \u001b[0mnew3\u001b[0m\u001b[0;34m[\u001b[0m\u001b[0;36m1\u001b[0m\u001b[0;34m]\u001b[0m\u001b[0;34m,\u001b[0m \u001b[0mnew4\u001b[0m\u001b[0;34m[\u001b[0m\u001b[0;36m1\u001b[0m\u001b[0;34m]\u001b[0m\u001b[0;34m\u001b[0m\u001b[0;34m\u001b[0m\u001b[0m\n\u001b[1;32m      5\u001b[0m   \u001b[0mxtrain\u001b[0m\u001b[0;34m[\u001b[0m\u001b[0mi\u001b[0m\u001b[0;34m]\u001b[0m\u001b[0;34m[\u001b[0m\u001b[0;36m2\u001b[0m\u001b[0;34m]\u001b[0m \u001b[0;34m+=\u001b[0m \u001b[0mnew1\u001b[0m\u001b[0;34m[\u001b[0m\u001b[0;36m2\u001b[0m\u001b[0;34m]\u001b[0m\u001b[0;34m,\u001b[0m\u001b[0mnew2\u001b[0m\u001b[0;34m[\u001b[0m\u001b[0;36m2\u001b[0m\u001b[0;34m]\u001b[0m\u001b[0;34m,\u001b[0m \u001b[0mnew3\u001b[0m\u001b[0;34m[\u001b[0m\u001b[0;36m2\u001b[0m\u001b[0;34m]\u001b[0m\u001b[0;34m,\u001b[0m \u001b[0mnew4\u001b[0m\u001b[0;34m[\u001b[0m\u001b[0;36m2\u001b[0m\u001b[0;34m]\u001b[0m\u001b[0;34m\u001b[0m\u001b[0;34m\u001b[0m\u001b[0m\n",
            "\u001b[0;31mIndexError\u001b[0m: list index out of range"
          ]
        }
      ]
    },
    {
      "cell_type": "code",
      "metadata": {
        "id": "pj6zCI9R9qXN"
      },
      "source": [
        "split = np.array_split(X_train_scaled_extrafeatures, 199997, axis=0)"
      ],
      "execution_count": 251,
      "outputs": []
    },
    {
      "cell_type": "code",
      "metadata": {
        "id": "fSD3MDUb-kz2"
      },
      "source": [
        "def split(a, n):\n",
        "    k, m = divmod(len(a), n)\n",
        "    return (a[i * k + min(i, m):(i + 1) * k + min(i + 1, m)] for i in range(n))\n",
        "#print( list(split(range(11), 3)) )  # [[0, 1, 2, 3], [4, 5, 6, 7], [8, 9, 10]]"
      ],
      "execution_count": 243,
      "outputs": []
    },
    {
      "cell_type": "code",
      "metadata": {
        "colab": {
          "base_uri": "https://localhost:8080/"
        },
        "id": "nUHj4D_CDHfy",
        "outputId": "10f011e4-8499-4ac9-a6aa-6b9d8abc72ad"
      },
      "source": [
        "#t = split(xtrain ,199997)\n",
        "shape(divide(xtrain,4))"
      ],
      "execution_count": 250,
      "outputs": [
        {
          "output_type": "execute_result",
          "data": {
            "text/plain": [
              "(799988, 1)"
            ]
          },
          "metadata": {
            "tags": []
          },
          "execution_count": 250
        }
      ]
    },
    {
      "cell_type": "code",
      "metadata": {
        "colab": {
          "base_uri": "https://localhost:8080/"
        },
        "id": "Q2h80RxCDZd5",
        "outputId": "522d0e7c-9e1e-4657-e9d1-b1de8463a72e"
      },
      "source": [
        "shape(t)"
      ],
      "execution_count": 245,
      "outputs": [
        {
          "output_type": "execute_result",
          "data": {
            "text/plain": [
              "()"
            ]
          },
          "metadata": {
            "tags": []
          },
          "execution_count": 245
        }
      ]
    },
    {
      "cell_type": "code",
      "metadata": {
        "colab": {
          "base_uri": "https://localhost:8080/",
          "height": 905
        },
        "id": "P-jMmu0nvW5C",
        "outputId": "407f9a53-be13-413b-d891-c6ae7a0573c2"
      },
      "source": [
        "a#below 3 point baseline\n",
        "knn.fit(split, Y_train)\n",
        "preds = knn.predict(X_test_scaled_extrafeatures)\n",
        "\n",
        "RMSE(preds, Y_test)"
      ],
      "execution_count": 231,
      "outputs": [
        {
          "output_type": "stream",
          "text": [
            "/usr/local/lib/python3.7/dist-packages/numpy/core/_asarray.py:83: VisibleDeprecationWarning: Creating an ndarray from ragged nested sequences (which is a list-or-tuple of lists-or-tuples-or ndarrays with different lengths or shapes) is deprecated. If you meant to do this, you must specify 'dtype=object' when creating the ndarray\n",
            "  return array(a, dtype, copy=False, order=order)\n"
          ],
          "name": "stderr"
        },
        {
          "output_type": "error",
          "ename": "ValueError",
          "evalue": "ignored",
          "traceback": [
            "\u001b[0;31m---------------------------------------------------------------------------\u001b[0m",
            "\u001b[0;31mValueError\u001b[0m                                Traceback (most recent call last)",
            "\u001b[0;32m<ipython-input-231-2e34b3369853>\u001b[0m in \u001b[0;36m<module>\u001b[0;34m()\u001b[0m\n\u001b[1;32m      1\u001b[0m \u001b[0;31m#below 3 point baseline\u001b[0m\u001b[0;34m\u001b[0m\u001b[0;34m\u001b[0m\u001b[0;34m\u001b[0m\u001b[0m\n\u001b[0;32m----> 2\u001b[0;31m \u001b[0mknn\u001b[0m\u001b[0;34m.\u001b[0m\u001b[0mfit\u001b[0m\u001b[0;34m(\u001b[0m\u001b[0msplit\u001b[0m\u001b[0;34m,\u001b[0m \u001b[0mY_train\u001b[0m\u001b[0;34m)\u001b[0m\u001b[0;34m\u001b[0m\u001b[0;34m\u001b[0m\u001b[0m\n\u001b[0m\u001b[1;32m      3\u001b[0m \u001b[0mpreds\u001b[0m \u001b[0;34m=\u001b[0m \u001b[0mknn\u001b[0m\u001b[0;34m.\u001b[0m\u001b[0mpredict\u001b[0m\u001b[0;34m(\u001b[0m\u001b[0mX_test_scaled_extrafeatures\u001b[0m\u001b[0;34m)\u001b[0m\u001b[0;34m\u001b[0m\u001b[0;34m\u001b[0m\u001b[0m\n\u001b[1;32m      4\u001b[0m \u001b[0;34m\u001b[0m\u001b[0m\n\u001b[1;32m      5\u001b[0m \u001b[0mRMSE\u001b[0m\u001b[0;34m(\u001b[0m\u001b[0mpreds\u001b[0m\u001b[0;34m,\u001b[0m \u001b[0mY_test\u001b[0m\u001b[0;34m)\u001b[0m\u001b[0;34m\u001b[0m\u001b[0;34m\u001b[0m\u001b[0m\n",
            "\u001b[0;32m/usr/local/lib/python3.7/dist-packages/sklearn/neighbors/_base.py\u001b[0m in \u001b[0;36mfit\u001b[0;34m(self, X, y)\u001b[0m\n\u001b[1;32m   1104\u001b[0m         \"\"\"\n\u001b[1;32m   1105\u001b[0m         \u001b[0;32mif\u001b[0m \u001b[0;32mnot\u001b[0m \u001b[0misinstance\u001b[0m\u001b[0;34m(\u001b[0m\u001b[0mX\u001b[0m\u001b[0;34m,\u001b[0m \u001b[0;34m(\u001b[0m\u001b[0mKDTree\u001b[0m\u001b[0;34m,\u001b[0m \u001b[0mBallTree\u001b[0m\u001b[0;34m)\u001b[0m\u001b[0;34m)\u001b[0m\u001b[0;34m:\u001b[0m\u001b[0;34m\u001b[0m\u001b[0;34m\u001b[0m\u001b[0m\n\u001b[0;32m-> 1106\u001b[0;31m             \u001b[0mX\u001b[0m\u001b[0;34m,\u001b[0m \u001b[0my\u001b[0m \u001b[0;34m=\u001b[0m \u001b[0mcheck_X_y\u001b[0m\u001b[0;34m(\u001b[0m\u001b[0mX\u001b[0m\u001b[0;34m,\u001b[0m \u001b[0my\u001b[0m\u001b[0;34m,\u001b[0m \u001b[0;34m\"csr\"\u001b[0m\u001b[0;34m,\u001b[0m \u001b[0mmulti_output\u001b[0m\u001b[0;34m=\u001b[0m\u001b[0;32mTrue\u001b[0m\u001b[0;34m)\u001b[0m\u001b[0;34m\u001b[0m\u001b[0;34m\u001b[0m\u001b[0m\n\u001b[0m\u001b[1;32m   1107\u001b[0m         \u001b[0mself\u001b[0m\u001b[0;34m.\u001b[0m\u001b[0m_y\u001b[0m \u001b[0;34m=\u001b[0m \u001b[0my\u001b[0m\u001b[0;34m\u001b[0m\u001b[0;34m\u001b[0m\u001b[0m\n\u001b[1;32m   1108\u001b[0m         \u001b[0;32mreturn\u001b[0m \u001b[0mself\u001b[0m\u001b[0;34m.\u001b[0m\u001b[0m_fit\u001b[0m\u001b[0;34m(\u001b[0m\u001b[0mX\u001b[0m\u001b[0;34m)\u001b[0m\u001b[0;34m\u001b[0m\u001b[0;34m\u001b[0m\u001b[0m\n",
            "\u001b[0;32m/usr/local/lib/python3.7/dist-packages/sklearn/utils/validation.py\u001b[0m in \u001b[0;36mcheck_X_y\u001b[0;34m(X, y, accept_sparse, accept_large_sparse, dtype, order, copy, force_all_finite, ensure_2d, allow_nd, multi_output, ensure_min_samples, ensure_min_features, y_numeric, warn_on_dtype, estimator)\u001b[0m\n\u001b[1;32m    753\u001b[0m                     \u001b[0mensure_min_features\u001b[0m\u001b[0;34m=\u001b[0m\u001b[0mensure_min_features\u001b[0m\u001b[0;34m,\u001b[0m\u001b[0;34m\u001b[0m\u001b[0;34m\u001b[0m\u001b[0m\n\u001b[1;32m    754\u001b[0m                     \u001b[0mwarn_on_dtype\u001b[0m\u001b[0;34m=\u001b[0m\u001b[0mwarn_on_dtype\u001b[0m\u001b[0;34m,\u001b[0m\u001b[0;34m\u001b[0m\u001b[0;34m\u001b[0m\u001b[0m\n\u001b[0;32m--> 755\u001b[0;31m                     estimator=estimator)\n\u001b[0m\u001b[1;32m    756\u001b[0m     \u001b[0;32mif\u001b[0m \u001b[0mmulti_output\u001b[0m\u001b[0;34m:\u001b[0m\u001b[0;34m\u001b[0m\u001b[0;34m\u001b[0m\u001b[0m\n\u001b[1;32m    757\u001b[0m         y = check_array(y, 'csr', force_all_finite=True, ensure_2d=False,\n",
            "\u001b[0;32m/usr/local/lib/python3.7/dist-packages/sklearn/utils/validation.py\u001b[0m in \u001b[0;36mcheck_array\u001b[0;34m(array, accept_sparse, accept_large_sparse, dtype, order, copy, force_all_finite, ensure_2d, allow_nd, ensure_min_samples, ensure_min_features, warn_on_dtype, estimator)\u001b[0m\n\u001b[1;32m    554\u001b[0m                     \u001b[0;34m\"Reshape your data either using array.reshape(-1, 1) if \"\u001b[0m\u001b[0;34m\u001b[0m\u001b[0;34m\u001b[0m\u001b[0m\n\u001b[1;32m    555\u001b[0m                     \u001b[0;34m\"your data has a single feature or array.reshape(1, -1) \"\u001b[0m\u001b[0;34m\u001b[0m\u001b[0;34m\u001b[0m\u001b[0m\n\u001b[0;32m--> 556\u001b[0;31m                     \"if it contains a single sample.\".format(array))\n\u001b[0m\u001b[1;32m    557\u001b[0m \u001b[0;34m\u001b[0m\u001b[0m\n\u001b[1;32m    558\u001b[0m         \u001b[0;31m# in the future np.flexible dtypes will be handled like object dtypes\u001b[0m\u001b[0;34m\u001b[0m\u001b[0;34m\u001b[0m\u001b[0;34m\u001b[0m\u001b[0m\n",
            "\u001b[0;31mValueError\u001b[0m: Expected 2D array, got 1D array instead:\narray=[array([[[-0.15172337],\n        [-0.15194328],\n        [-0.10609339],\n        ...,\n        [ 0.45898893],\n        [-0.08716119],\n        [-0.06557099]]])\n array([[[-0.0123545 ],\n        [ 0.00806597],\n        [ 0.08560287],\n        ...,\n        [ 0.35770448],\n        [ 0.05531282],\n        [ 0.03089457]]])\n array([[[ 0.01006621],\n        [ 0.0037364 ],\n        [ 0.06371911],\n        ...,\n        [ 0.05358484],\n        [-0.00534137],\n        [-0.00702248]]])\n ... array([], shape=(0, 199997, 1), dtype=float64)\n array([], shape=(0, 199997, 1), dtype=float64)\n array([], shape=(0, 199997, 1), dtype=float64)].\nReshape your data either using array.reshape(-1, 1) if your data has a single feature or array.reshape(1, -1) if it contains a single sample."
          ]
        }
      ]
    },
    {
      "cell_type": "code",
      "metadata": {
        "colab": {
          "base_uri": "https://localhost:8080/"
        },
        "id": "qEBQ-q26wtlO",
        "outputId": "2b211fb9-8d70-4b2f-f12a-e1479b8d9520"
      },
      "source": [
        "shape(X_train_scaled_extrafeatures)"
      ],
      "execution_count": 199,
      "outputs": [
        {
          "output_type": "execute_result",
          "data": {
            "text/plain": [
              "(4, 199997, 1)"
            ]
          },
          "metadata": {
            "tags": []
          },
          "execution_count": 199
        }
      ]
    },
    {
      "cell_type": "code",
      "metadata": {
        "colab": {
          "base_uri": "https://localhost:8080/",
          "height": 164
        },
        "id": "2bqlf-4a00oI",
        "outputId": "da240e61-3c1e-4f47-830e-8656b9aada46"
      },
      "source": [
        "X_train_scaled_extrafeatures.reshape(199997, 7)"
      ],
      "execution_count": 182,
      "outputs": [
        {
          "output_type": "error",
          "ename": "AttributeError",
          "evalue": "ignored",
          "traceback": [
            "\u001b[0;31m---------------------------------------------------------------------------\u001b[0m",
            "\u001b[0;31mAttributeError\u001b[0m                            Traceback (most recent call last)",
            "\u001b[0;32m<ipython-input-182-aa666d404562>\u001b[0m in \u001b[0;36m<module>\u001b[0;34m()\u001b[0m\n\u001b[0;32m----> 1\u001b[0;31m \u001b[0mX_train_scaled_extrafeatures\u001b[0m\u001b[0;34m.\u001b[0m\u001b[0mreshape\u001b[0m\u001b[0;34m(\u001b[0m\u001b[0;36m199997\u001b[0m\u001b[0;34m,\u001b[0m \u001b[0;36m7\u001b[0m\u001b[0;34m)\u001b[0m\u001b[0;34m\u001b[0m\u001b[0;34m\u001b[0m\u001b[0m\n\u001b[0m",
            "\u001b[0;31mAttributeError\u001b[0m: 'list' object has no attribute 'reshape'"
          ]
        }
      ]
    },
    {
      "cell_type": "code",
      "metadata": {
        "colab": {
          "base_uri": "https://localhost:8080/",
          "height": 198
        },
        "id": "bVnnDqx-03_W",
        "outputId": "75cb975a-09af-4c66-9d51-4dcf966d0347"
      },
      "source": [
        "shape(new1,new2)"
      ],
      "execution_count": 197,
      "outputs": [
        {
          "output_type": "error",
          "ename": "TypeError",
          "evalue": "ignored",
          "traceback": [
            "\u001b[0;31m---------------------------------------------------------------------------\u001b[0m",
            "\u001b[0;31mTypeError\u001b[0m                                 Traceback (most recent call last)",
            "\u001b[0;32m<ipython-input-197-6db6a4af1102>\u001b[0m in \u001b[0;36m<module>\u001b[0;34m()\u001b[0m\n\u001b[0;32m----> 1\u001b[0;31m \u001b[0mshape\u001b[0m\u001b[0;34m(\u001b[0m\u001b[0mnew1\u001b[0m\u001b[0;34m,\u001b[0m\u001b[0mnew2\u001b[0m\u001b[0;34m)\u001b[0m\u001b[0;34m\u001b[0m\u001b[0;34m\u001b[0m\u001b[0m\n\u001b[0m",
            "\u001b[0;32m<__array_function__ internals>\u001b[0m in \u001b[0;36mshape\u001b[0;34m(*args, **kwargs)\u001b[0m\n",
            "\u001b[0;31mTypeError\u001b[0m: _shape_dispatcher() takes 1 positional argument but 2 were given"
          ]
        }
      ]
    },
    {
      "cell_type": "code",
      "metadata": {
        "colab": {
          "base_uri": "https://localhost:8080/"
        },
        "id": "X8iJR8p81Ni1",
        "outputId": "11e62989-8c6e-4e38-ca4a-668a325e84dc"
      },
      "source": [
        "shape(norma)"
      ],
      "execution_count": 195,
      "outputs": [
        {
          "output_type": "execute_result",
          "data": {
            "text/plain": [
              "(199997, 7)"
            ]
          },
          "metadata": {
            "tags": []
          },
          "execution_count": 195
        }
      ]
    },
    {
      "cell_type": "code",
      "metadata": {
        "id": "flhy6HQQ1X6d"
      },
      "source": [
        ""
      ],
      "execution_count": null,
      "outputs": []
    }
  ]
}